{
 "cells": [
  {
   "cell_type": "code",
   "execution_count": 1,
   "metadata": {},
   "outputs": [],
   "source": [
    "from mrequests import MattermostRequests"
   ]
  },
  {
   "cell_type": "code",
   "execution_count": 2,
   "metadata": {},
   "outputs": [],
   "source": [
    "# Mattermost credentials should to be placed outside of this repo.\n",
    "mr = MattermostRequests('../mattermost_credentials.json', 'mattermost-openapi-v4.yaml')"
   ]
  },
  {
   "cell_type": "markdown",
   "metadata": {},
   "source": [
    "#### API testing"
   ]
  },
  {
   "cell_type": "code",
   "execution_count": 3,
   "metadata": {},
   "outputs": [],
   "source": [
    "auth_header = mr.login()\n",
    "team_id = mr.get_team_id(auth_header)\n",
    "channels = mr.get_channel_list(auth_header, team_id)"
   ]
  },
  {
   "cell_type": "code",
   "execution_count": 4,
   "metadata": {},
   "outputs": [
    {
     "data": {
      "text/plain": [
       "{'bf4gbjagp7bbxb9mibgks4nbry': 'town-square',\n",
       " 'm5ezjkq9yfgwmjqrdn4ueyfgbh': 'ggthread',\n",
       " 'zt6fdxs5cpyqxxtdf54iw3wbyc': 'off-topic'}"
      ]
     },
     "execution_count": 4,
     "metadata": {},
     "output_type": "execute_result"
    }
   ],
   "source": [
    "channels"
   ]
  },
  {
   "cell_type": "code",
   "execution_count": 5,
   "metadata": {},
   "outputs": [
    {
     "data": {
      "text/plain": [
       "{'channel_id': 'm5ezjkq9yfgwmjqrdn4ueyfgbh',\n",
       " 'create_at': 1524003684358,\n",
       " 'delete_at': 0,\n",
       " 'edit_at': 0,\n",
       " 'hashtags': '',\n",
       " 'id': 'orxh9u4db7nsfnf7qgkdmq15ye',\n",
       " 'is_pinned': False,\n",
       " 'message': 'this is a new message',\n",
       " 'original_id': '',\n",
       " 'parent_id': '',\n",
       " 'pending_post_id': '',\n",
       " 'props': {},\n",
       " 'root_id': '',\n",
       " 'type': '',\n",
       " 'update_at': 1524003684358,\n",
       " 'user_id': '5r1myfn6xinq3pk7j75agy53ww'}"
      ]
     },
     "execution_count": 5,
     "metadata": {},
     "output_type": "execute_result"
    }
   ],
   "source": [
    "mr.post_message_to_channel(auth_header, 'm5ezjkq9yfgwmjqrdn4ueyfgbh', 'this is a new message')"
   ]
  },
  {
   "cell_type": "code",
   "execution_count": null,
   "metadata": {},
   "outputs": [],
   "source": []
  }
 ],
 "metadata": {
  "kernelspec": {
   "display_name": "Python 3",
   "language": "python",
   "name": "python3"
  },
  "language_info": {
   "codemirror_mode": {
    "name": "ipython",
    "version": 3
   },
   "file_extension": ".py",
   "mimetype": "text/x-python",
   "name": "python",
   "nbconvert_exporter": "python",
   "pygments_lexer": "ipython3",
   "version": "3.5.4"
  }
 },
 "nbformat": 4,
 "nbformat_minor": 2
}
