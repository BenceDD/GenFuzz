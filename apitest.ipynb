{
 "cells": [
  {
   "cell_type": "code",
   "execution_count": 1,
   "metadata": {},
   "outputs": [],
   "source": [
    "from mrequests import MattermostRequests"
   ]
  },
  {
   "cell_type": "code",
   "execution_count": 2,
   "metadata": {},
   "outputs": [],
   "source": [
    "# Mattermost credentials should to be placed outside of this repo.\n",
    "mr = MattermostRequests('../mattermost_credentials.json', 'mattermost-openapi-v4.yaml')"
   ]
  },
  {
   "cell_type": "markdown",
   "metadata": {},
   "source": [
    "#### API testing"
   ]
  },
  {
   "cell_type": "markdown",
   "metadata": {
    "collapsed": true
   },
   "source": [
    "A motor feladata, hogy végrehajt egy teszt sort, és értékeli az eredményt. Addig folyik a tesztelés, amíg egy hibás válasz nem érkezik. (Hiba az is, ha nem érkezik válasz egy megadott időn belül, de itt figyelembe kell venni a hálózati késleltetést is.) A fuzzingot ezen a ponton úgy kéne megvalósítani, hogy az előbbi fuzzoló metódust használva a teszt alatt lévő API metódus össze lehetséges paraméterét végigtesztelni az összes lehetséges kombinációban. (Ez elvben nagyon sok, úgyhogy inkább az összes lehetséges teszt egy random részhalmazával érdemes próbálkozni.) A visszajövő válaszokat pedig minden esetben a séma alapján validálni kell (lásd 2. feladat)."
   ]
  },
  {
   "cell_type": "code",
   "execution_count": 27,
   "metadata": {},
   "outputs": [],
   "source": [
    "def test_method_a(szam):\n",
    "    if szam == 2:\n",
    "        return 'jegesmedve'\n",
    "\n",
    "def test_method_b(noveny, allat):\n",
    "    if noveny == 'fenyo':\n",
    "        return {\n",
    "            'noveny': 'ez egy ' + noveny,\n",
    "            'allat': 'ez egy ' + allat,\n",
    "            'szin': 'zold',\n",
    "        }\n",
    "\n",
    "def test_method_c(szin):\n",
    "    return szin.upper()    "
   ]
  },
  {
   "cell_type": "code",
   "execution_count": 28,
   "metadata": {},
   "outputs": [
    {
     "data": {
      "text/plain": [
       "[{'input_data': {'szam': 2},\n",
       "  'post_process': <function __main__.<lambda>>,\n",
       "  'target': <function __main__.test_method_a>},\n",
       " {'input_data': {'noveny': 'fenyo'},\n",
       "  'post_process': <function __main__.<lambda>>,\n",
       "  'target': <function __main__.test_method_b>},\n",
       " {'input_data': None,\n",
       "  'post_process': None,\n",
       "  'target': <function __main__.test_method_c>}]"
      ]
     },
     "execution_count": 28,
     "metadata": {},
     "output_type": "execute_result"
    }
   ],
   "source": [
    "test_flow = [\n",
    "    { 'input_data': { 'szam': 2 }, 'target': test_method_a, 'post_process': lambda x: { 'allat': x } },\n",
    "    { 'input_data': { 'noveny': 'fenyo' }, 'target': test_method_b, 'post_process': lambda x: { 'szin': x['szin'] } },\n",
    "    { 'input_data': None, 'target': test_method_c, 'post_process': None}\n",
    "]\n",
    "test_flow"
   ]
  },
  {
   "cell_type": "code",
   "execution_count": 29,
   "metadata": {},
   "outputs": [
    {
     "name": "stdout",
     "output_type": "stream",
     "text": [
      "Test 1/3\n",
      "Input: {'szam': 2}\n",
      "Output: jegesmedve\n",
      "Test 2/3\n",
      "Input: {'allat': 'jegesmedve', 'noveny': 'fenyo'}\n",
      "Output: {'szin': 'zold', 'allat': 'ez egy jegesmedve', 'noveny': 'ez egy fenyo'}\n",
      "Test 3/3\n",
      "Input: {'szin': 'zold'}\n",
      "Output: ZOLD\n"
     ]
    }
   ],
   "source": [
    "def run_test(flow):\n",
    "    result_data = None\n",
    "    for i, action in enumerate(flow):\n",
    "        print('Test ' + str(i + 1) + '/' + str(len(flow)))\n",
    "        \n",
    "        # prepare variables\n",
    "        input_data = action['input_data'] or {}\n",
    "        result_data = result_data or {}\n",
    "        input_data.update(result_data)\n",
    "        target = action['target']\n",
    "        post_process = action['post_process']\n",
    "        \n",
    "        # fuzzing input\n",
    "        # ....\n",
    "        print('Input: ' + str(input_data))\n",
    "        \n",
    "        # run target\n",
    "        result = target(**input_data)\n",
    "        print('Output: ' + str(result))\n",
    "        \n",
    "        # validate result\n",
    "        # ....\n",
    "        \n",
    "        # prepare result for next \n",
    "        result_data = post_process(result) if post_process is not None else result\n",
    "             \n",
    "run_test(test_flow)"
   ]
  },
  {
   "cell_type": "code",
   "execution_count": null,
   "metadata": {},
   "outputs": [],
   "source": []
  },
  {
   "cell_type": "code",
   "execution_count": null,
   "metadata": {},
   "outputs": [],
   "source": [
    "Mattermost fuzzing"
   ]
  },
  {
   "cell_type": "code",
   "execution_count": null,
   "metadata": {},
   "outputs": [],
   "source": [
    "team_id = mr.get_teams()[0]['id']\n",
    "channel_id = mr.get_public_channels(team_id=team_id)[0]['id']\n",
    "\n",
    "mr.create_a_post(channel_id=channel_id, message='this is a new message')"
   ]
  },
  {
   "cell_type": "code",
   "execution_count": 3,
   "metadata": {
    "scrolled": true
   },
   "outputs": [
    {
     "data": {
      "text/plain": [
       "[('activate_plugin', ['plugin_id']),\n",
       " ('add_log_message', ['body']),\n",
       " ('add_multiple_users_to_team', ['team_id', 'body']),\n",
       " ('add_user_to_channel', ['channel_id', 'body']),\n",
       " ('add_user_to_team', ['team_id', 'body']),\n",
       " ('add_user_to_team_from_invite', ['hash', 'data', 'invite_id']),\n",
       " ('attach_mobile_device', ['body']),\n",
       " ('autocomplete_channels', ['team_id', 'name']),\n",
       " ('autocomplete_custom_emoji', ['name']),\n",
       " ('autocomplete_users', ['team_id', 'channel_id', 'name']),\n",
       " ('cancel_a_job', ['job_id']),\n",
       " ('check_if_team_exists', ['name']),\n",
       " ('check_mfa', ['body']),\n",
       " ('check_system_health', []),\n",
       " ('create_a_channel', ['body']),\n",
       " ('create_a_command', ['body']),\n",
       " ('create_a_custom_emoji', ['image', 'emoji']),\n",
       " ('create_a_direct_message_channel', ['body']),\n",
       " ('create_a_group_message_channel', ['body']),\n",
       " ('create_a_new_job', ['body']),\n",
       " ('create_a_post', ['post']),\n",
       " ('create_a_team', ['body']),\n",
       " ('create_a_user', ['body']),\n",
       " ('create_a_user_access_token', ['user_id', 'token']),\n",
       " ('create_an_incoming_webhook', ['body']),\n",
       " ('create_an_outgoing_webhook', ['body']),\n",
       " ('create_report', []),\n",
       " ('deactivate_a_user_account', ['user_id']),\n",
       " ('deactivate_plugin', ['plugin_id']),\n",
       " ('delete_a_channel', ['channel_id']),\n",
       " ('delete_a_command', ['command_id']),\n",
       " ('delete_a_custom_emoji', ['emoji_id']),\n",
       " ('delete_a_post', ['post_id']),\n",
       " ('delete_a_team', ['team_id', 'permanent']),\n",
       " ('delete_an_oauth_app', ['app_id']),\n",
       " ('delete_an_outgoing_webhook', ['hook_id']),\n",
       " ('delete_users_preferences', ['user_id', 'body']),\n",
       " ('disable_personal_access_token', ['token']),\n",
       " ('download_a_report', ['report_id']),\n",
       " ('enable_personal_access_token', ['token']),\n",
       " ('execute_a_command', ['body']),\n",
       " ('generate_a_new_token', ['command_id']),\n",
       " ('generate_mfa_secret', ['user_id']),\n",
       " ('get_a_channel', ['channel_id']),\n",
       " ('get_a_channel_by_name', ['team_id', 'channel_name']),\n",
       " ('get_a_channel_by_name_and_team_name', ['team_name', 'channel_name']),\n",
       " ('get_a_channels_pinned_posts', ['channel_id']),\n",
       " ('get_a_custom_emoji', ['emoji_id']),\n",
       " ('get_a_custom_emoji_by_name', ['emoji_name']),\n",
       " ('get_a_file', ['file_id']),\n",
       " ('get_a_files_preview', ['file_id']),\n",
       " ('get_a_files_thumbnail', ['file_id']),\n",
       " ('get_a_job', ['job_id']),\n",
       " ('get_a_list_of_channels_by_ids', ['team_id', 'body']),\n",
       " ('get_a_list_of_custom_emoji', ['page', 'per_page', 'sort']),\n",
       " ('get_a_list_of_flagged_posts',\n",
       "  ['user_id', 'team_id', 'channel_id', 'page', 'per_page']),\n",
       " ('get_a_list_of_roles_by_name', ['body']),\n",
       " ('get_a_post', ['post_id']),\n",
       " ('get_a_public_file_link', ['file_id']),\n",
       " ('get_a_report', ['report_id']),\n",
       " ('get_a_role', ['role_id']),\n",
       " ('get_a_role', ['role_name']),\n",
       " ('get_a_specific_user_preference',\n",
       "  ['user_id', 'category', 'preference_name']),\n",
       " ('get_a_team', ['team_id']),\n",
       " ('get_a_team_by_name', ['name']),\n",
       " ('get_a_team_member', ['team_id', 'user_id']),\n",
       " ('get_a_team_stats', ['team_id']),\n",
       " ('get_a_thread', ['post_id']),\n",
       " ('get_a_user', ['user_id']),\n",
       " ('get_a_user_access_token', ['token_id']),\n",
       " ('get_a_user_by_email', ['email']),\n",
       " ('get_a_user_by_username', ['username']),\n",
       " ('get_a_users_teams', ['user_id']),\n",
       " ('get_an_incoming_webhook', ['hook_id']),\n",
       " ('get_an_oauth_app', ['app_id']),\n",
       " ('get_an_outgoing_webhook', ['hook_id']),\n",
       " ('get_analytics', ['name', 'team_id']),\n",
       " ('get_audits', ['page', 'per_page']),\n",
       " ('get_authorized_oauth_apps', ['user_id', 'page', 'per_page']),\n",
       " ('get_brand_image', []),\n",
       " ('get_certificate_status', []),\n",
       " ('get_channel_member', ['channel_id', 'user_id']),\n",
       " ('get_channel_members', ['channel_id', 'page', 'per_page']),\n",
       " ('get_channel_members_by_ids', ['channel_id', 'user_ids']),\n",
       " ('get_channel_members_for_user', ['user_id', 'team_id']),\n",
       " ('get_channel_statistics', ['channel_id']),\n",
       " ('get_channels_for_user', ['user_id', 'team_id']),\n",
       " ('get_client_configuration', ['format']),\n",
       " ('get_client_license', ['format']),\n",
       " ('get_cluster_status', []),\n",
       " ('get_configuration', []),\n",
       " ('get_configuration_made_through_environment_variables', []),\n",
       " ('get_custom_emoji_image', ['emoji_id']),\n",
       " ('get_deleted_channels', ['team_id', 'page', 'per_page']),\n",
       " ('get_file_info_for_post', ['post_id']),\n",
       " ('get_info_on_an_oauth_app', ['app_id']),\n",
       " ('get_invite_info_for_a_team', ['invite_id']),\n",
       " ('get_logs', ['page', 'logs_per_page']),\n",
       " ('get_metadata', []),\n",
       " ('get_metadata_for_a_file', ['file_id']),\n",
       " ('get_oauth_apps', ['page', 'per_page']),\n",
       " ('get_plugins', []),\n",
       " ('get_posts_for_a_channel',\n",
       "  ['channel_id', 'page', 'per_page', 'since', 'before', 'after']),\n",
       " ('get_public_channels', ['team_id', 'page', 'per_page']),\n",
       " ('get_reports', ['page', 'per_page']),\n",
       " ('get_team_members', ['team_id', 'page', 'per_page']),\n",
       " ('get_team_members_by_ids', ['team_id', 'body']),\n",
       " ('get_team_members_for_a_user', ['user_id']),\n",
       " ('get_team_unreads_for_a_user', ['user_id', 'exclude_team']),\n",
       " ('get_teams', ['page', 'per_page']),\n",
       " ('get_the_data_retention_policy_details', []),\n",
       " ('get_the_jobs', ['page', 'per_page']),\n",
       " ('get_the_jobs_of_the_given_type', ['type', 'page', 'per_page']),\n",
       " ('get_the_team_icon', ['team_id']),\n",
       " ('get_the_users_preferences', ['user_id']),\n",
       " ('get_unread_messages', ['user_id', 'channel_id']),\n",
       " ('get_unreads_for_a_team', ['user_id', 'team_id']),\n",
       " ('get_user_access_tokens', ['page', 'per_page']),\n",
       " ('get_user_access_tokens', ['user_id', 'page', 'per_page']),\n",
       " ('get_user_status', ['user_id']),\n",
       " ('get_user_statuses_by_id', ['post']),\n",
       " ('get_users',\n",
       "  ['page',\n",
       "   'per_page',\n",
       "   'in_team',\n",
       "   'not_in_team',\n",
       "   'in_channel',\n",
       "   'not_in_channel',\n",
       "   'without_team',\n",
       "   'sort']),\n",
       " ('get_users_audits', ['user_id']),\n",
       " ('get_users_by_ids', ['body']),\n",
       " ('get_users_by_usernames', ['body']),\n",
       " ('get_users_profile_image', ['user_id']),\n",
       " ('get_users_sessions', ['user_id']),\n",
       " ('get_webapp_plugins', []),\n",
       " ('get_webrtc_token', []),\n",
       " ('import_a_team_from_other_application',\n",
       "  ['file', 'filesize', 'importFrom', 'team_id']),\n",
       " ('invalidate_all_the_caches', []),\n",
       " ('invite_users_to_the_team_by_email', ['team_id', 'body']),\n",
       " ('list_a_users_preferences_by_category', ['user_id', 'category']),\n",
       " ('list_autocomplete_commands', ['team_id']),\n",
       " ('list_commands_for_a_team', ['team_id', 'custom_only']),\n",
       " ('list_incoming_webhooks', ['page', 'per_page', 'team_id']),\n",
       " ('list_outgoing_webhooks', ['page', 'per_page', 'team_id', 'channel_id']),\n",
       " ('patch_a_channel', ['channel_id', 'body']),\n",
       " ('patch_a_post', ['post_id', 'body']),\n",
       " ('patch_a_role', ['role_id', 'body']),\n",
       " ('patch_a_team', ['team_id', 'body']),\n",
       " ('patch_a_user', ['user_id', 'body']),\n",
       " ('perform_a_post_action', ['post_id', 'action_id']),\n",
       " ('pin_a_post_to_the_channel', ['post_id']),\n",
       " ('purge_all_elasticsearch_indexes', []),\n",
       " ('recycle_database_connections', []),\n",
       " ('regenerate_oauth_app_secret', ['app_id']),\n",
       " ('regenerate_the_token_for_the_outgoing_webhook', ['hook_id']),\n",
       " ('register_oauth_app', ['body']),\n",
       " ('reload_configuration', []),\n",
       " ('remove_idp_certificate', []),\n",
       " ('remove_license_file', []),\n",
       " ('remove_plugin', ['plugin_id']),\n",
       " ('remove_private_key', []),\n",
       " ('remove_public_certificate', []),\n",
       " ('remove_user_from_channel', ['channel_id', 'user_id']),\n",
       " ('remove_user_from_team', ['team_id', 'user_id']),\n",
       " ('reset_password', ['body']),\n",
       " ('restore_a_channel', ['channel_id']),\n",
       " ('revoke_a_user_access_token', ['token']),\n",
       " ('revoke_a_user_session', ['user_id', 'body']),\n",
       " ('revoke_all_active_sessions_for_a_user', ['user_id']),\n",
       " ('save_the_users_preferences', ['user_id', 'body']),\n",
       " ('search_channels', ['team_id', 'body']),\n",
       " ('search_custom_emoji', ['body']),\n",
       " ('search_for_team_posts', ['team_id', 'body']),\n",
       " ('search_teams', ['body']),\n",
       " ('search_tokens', ['body']),\n",
       " ('search_users', ['body']),\n",
       " ('send_a_test_email', ['body']),\n",
       " ('send_password_reset_email', ['body']),\n",
       " ('send_verification_email', ['body']),\n",
       " ('set_users_profile_image', ['image', 'user_id']),\n",
       " ('sets_the_team_icon', ['team_id', 'image']),\n",
       " ('switch_login_method', ['body']),\n",
       " ('sync_with_ldap', []),\n",
       " ('test_aws_s_connection', ['body']),\n",
       " ('test_elasticsearch_configuration', []),\n",
       " ('test_ldap_configuration', []),\n",
       " ('unpin_a_post_to_the_channel', ['post_id']),\n",
       " ('update_a_channel', ['channel_id', 'body']),\n",
       " ('update_a_command', ['command_id', 'body']),\n",
       " ('update_a_post', ['post_id', 'body']),\n",
       " ('update_a_team', ['team_id', 'body']),\n",
       " ('update_a_team_member_roles', ['team_id', 'user_id', 'body']),\n",
       " ('update_a_user', ['user_id', 'body']),\n",
       " ('update_a_users_authentication_method', ['user_id', 'body']),\n",
       " ('update_a_users_mfa', ['user_id', 'body']),\n",
       " ('update_a_users_password', ['user_id', 'body']),\n",
       " ('update_a_users_roles', ['user_id', 'roles']),\n",
       " ('update_an_incoming_webhook', ['hook_id', 'body']),\n",
       " ('update_an_oauth_app', ['app_id', 'body']),\n",
       " ('update_an_outgoing_webhook', ['hook_id', 'body']),\n",
       " ('update_channel_notifications', ['channel_id', 'user_id', 'notify_props']),\n",
       " ('update_channel_roles', ['channel_id', 'user_id', 'roles']),\n",
       " ('update_configuration', ['body']),\n",
       " ('update_user_active_status', ['user_id', 'body']),\n",
       " ('update_user_status', ['user_id', 'body']),\n",
       " ('upload_a_file',\n",
       "  ['files', 'channel_id', 'client_ids', 'channel_id', 'filename']),\n",
       " ('upload_brand_image', ['image']),\n",
       " ('upload_idp_certificate', ['certificate']),\n",
       " ('upload_license_file', ['license']),\n",
       " ('upload_plugin', ['plugin']),\n",
       " ('upload_private_key', ['certificate']),\n",
       " ('upload_public_certificate', ['certificate']),\n",
       " ('verify_user_email', ['body']),\n",
       " ('view_channel', ['user_id', 'body'])]"
      ]
     },
     "execution_count": 3,
     "metadata": {},
     "output_type": "execute_result"
    }
   ],
   "source": [
    "mr.get_methods()"
   ]
  },
  {
   "cell_type": "code",
   "execution_count": 14,
   "metadata": {},
   "outputs": [],
   "source": [
    "a = {}"
   ]
  },
  {
   "cell_type": "code",
   "execution_count": 16,
   "metadata": {},
   "outputs": [],
   "source": [
    "a.update({})"
   ]
  },
  {
   "cell_type": "code",
   "execution_count": 17,
   "metadata": {},
   "outputs": [],
   "source": [
    "c = None or {}"
   ]
  },
  {
   "cell_type": "code",
   "execution_count": 18,
   "metadata": {},
   "outputs": [
    {
     "data": {
      "text/plain": [
       "{}"
      ]
     },
     "execution_count": 18,
     "metadata": {},
     "output_type": "execute_result"
    }
   ],
   "source": [
    "c"
   ]
  },
  {
   "cell_type": "code",
   "execution_count": null,
   "metadata": {},
   "outputs": [],
   "source": []
  }
 ],
 "metadata": {
  "kernelspec": {
   "display_name": "Python 3",
   "language": "python",
   "name": "python3"
  },
  "language_info": {
   "codemirror_mode": {
    "name": "ipython",
    "version": 3
   },
   "file_extension": ".py",
   "mimetype": "text/x-python",
   "name": "python",
   "nbconvert_exporter": "python",
   "pygments_lexer": "ipython3",
   "version": "3.5.4"
  }
 },
 "nbformat": 4,
 "nbformat_minor": 2
}
