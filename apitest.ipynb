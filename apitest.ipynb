{
 "cells": [
  {
   "cell_type": "code",
   "execution_count": null,
   "metadata": {},
   "outputs": [],
   "source": [
    "import datetime\n",
    "from validate import *"
   ]
  },
  {
   "cell_type": "code",
   "execution_count": 1,
   "metadata": {},
   "outputs": [],
   "source": [
    "from mrequests import MattermostRequests\n",
    "from yamlvalidator import validate_response\n",
    "from test_flows import MattermostTestFlows\n",
    "from jsonfuzzer import JSONFuzzer"
   ]
  },
  {
   "cell_type": "code",
   "execution_count": 2,
   "metadata": {},
   "outputs": [],
   "source": [
    "# Mattermost credentials should to be placed outside of this repo.\n",
    "mr = MattermostRequests('../mattermost_credentials.json', 'mattermost-openapi-v4.yaml')\n",
    "flows = MattermostTestFlows(mr)"
   ]
  },
  {
   "cell_type": "code",
   "execution_count": 3,
   "metadata": {},
   "outputs": [],
   "source": [
    "ctf = flows.create_user_flow()\n",
    "fuzzer = JSONFuzzer()"
   ]
  },
  {
   "cell_type": "markdown",
   "metadata": {},
   "source": [
    "#### API testing"
   ]
  },
  {
   "cell_type": "markdown",
   "metadata": {
    "collapsed": true
   },
   "source": [
    "A motor feladata, hogy végrehajt egy teszt sort, és értékeli az eredményt. Addig folyik a tesztelés, amíg egy hibás válasz nem érkezik. (Hiba az is, ha nem érkezik válasz egy megadott időn belül, de itt figyelembe kell venni a hálózati késleltetést is.) A fuzzingot ezen a ponton úgy kéne megvalósítani, hogy az előbbi fuzzoló metódust használva a teszt alatt lévő API metódus össze lehetséges paraméterét végigtesztelni az összes lehetséges kombinációban. (Ez elvben nagyon sok, úgyhogy inkább az összes lehetséges teszt egy random részhalmazával érdemes próbálkozni.) A visszajövő válaszokat pedig minden esetben a séma alapján validálni kell (lásd 2. feladat)."
   ]
  },
  {
   "cell_type": "code",
   "execution_count": 4,
   "metadata": {},
   "outputs": [],
   "source": [
    "def run_test(flow, n = 1):\n",
    "    issue_list = []\n",
    "    cache = {}\n",
    "\n",
    "    for action in flow['setup'] if 'setup' in flow else []:\n",
    "        input_data = action['input_data'] if 'input_data' in action else {}\n",
    "        input_data.update(cache)\n",
    "        target = action['target']\n",
    "        post_process = action['post_process']\n",
    "        cache.update(post_process(target(**input_data)))\n",
    "    \n",
    "    print(cache)\n",
    "\n",
    "    for k in range(n):\n",
    "        for i, action in enumerate(flow['test']):\n",
    "            print('Test ' + str(i + 1) + '/' + str(len(flow['test'])))\n",
    "            \n",
    "            # prepare variables\n",
    "            input_data = action['input_data'] if 'input_data' in action else {}\n",
    "            input_data.update(cache)\n",
    "            target = action['target']\n",
    "            \n",
    "            # fuzzing input\n",
    "            method_params = mr.handler.get_matching_methods() \n",
    "            input_data = fuzzer().fuzz(method_params)\n",
    "            print('Input: ' + str(input_data))\n",
    "            \n",
    "            # run target\n",
    "            request, response = target(**input_data)\n",
    "            _, result = response\n",
    "            print('Output: ' + str(result))\n",
    "            \n",
    "            # validate result\n",
    "            \n",
    "            # prepare result for next \n",
    "            if 'post_process' in action:\n",
    "                post_process = action['post_process']\n",
    "                result_data = post_process(result) if post_process is not None else {'result': result}\n",
    "                cache.update(result_data)\n",
    "        \n",
    "            # save\n",
    "            issue_list.append({'Input':input_data, 'Output':result})\n",
    "    \n",
    "    print(cache)\n",
    "    \n",
    "    for action in flow['teardown'] if 'teardown' in flow else []:\n",
    "        input_data = action['input_data'] if 'input_data' in action else {}\n",
    "        input_data.update(cache)\n",
    "        target = action['target']\n",
    "        \n",
    "        result = target(**input_data)\n",
    "        \n",
    "        if 'post_process' in action:\n",
    "            post_process = action['post_process']\n",
    "            cache.update(post_process(result))    \n",
    "        \n",
    "    return issue_list\n",
    "run_test(ctf)\n"
   ]
  },
  {
   "cell_type": "code",
   "execution_count": null,
   "metadata": {},
   "outputs": [],
   "source": []
  },
  {
   "cell_type": "code",
   "execution_count": null,
   "metadata": {},
   "outputs": [],
   "source": [
    "def test_save(testlist):\n",
    "    f = open(\"archive/test-\"+datetime.datetime.now().strftime(\"%y-%m-%d-%H-%M\")+\".txt\", \"w\")\n",
    "    for item in testlist:\n",
    "        f.write(\"%s\\n\" % item)\n",
    "    f.close()\n",
    "test_save(apitestlist)"
   ]
  },
  {
   "cell_type": "code",
   "execution_count": null,
   "metadata": {},
   "outputs": [],
   "source": []
  }
 ],
 "metadata": {
  "kernelspec": {
   "display_name": "Python 3",
   "language": "python",
   "name": "python3"
  },
  "language_info": {
   "codemirror_mode": {
    "name": "ipython",
    "version": 3
   },
   "file_extension": ".py",
   "mimetype": "text/x-python",
   "name": "python",
   "nbconvert_exporter": "python",
   "pygments_lexer": "ipython3",
   "version": "3.6.5"
  }
 },
 "nbformat": 4,
 "nbformat_minor": 2
}
