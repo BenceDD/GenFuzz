{
 "cells": [
  {
   "cell_type": "code",
   "execution_count": null,
   "metadata": {},
   "outputs": [],
   "source": [
    "import datetime\n",
    "from validate import *"
   ]
  },
  {
   "cell_type": "code",
   "execution_count": 1,
   "metadata": {},
   "outputs": [],
   "source": [
    "from mrequests import MattermostRequests\n",
    "from yamlvalidator import validate_response\n",
    "from test_flows import MattermostTestFlows"
   ]
  },
  {
   "cell_type": "code",
   "execution_count": 2,
   "metadata": {},
   "outputs": [],
   "source": [
    "# Mattermost credentials should to be placed outside of this repo.\n",
    "mr = MattermostRequests('../mattermost_credentials.json', 'mattermost-openapi-v4.yaml')\n",
    "flows = MattermostTestFlows(mr)"
   ]
  },
  {
   "cell_type": "code",
   "execution_count": 3,
   "metadata": {},
   "outputs": [],
   "source": [
    "ctf = flows.create_user_flow()"
   ]
  },
  {
   "cell_type": "markdown",
   "metadata": {},
   "source": [
    "#### API testing"
   ]
  },
  {
   "cell_type": "markdown",
   "metadata": {
    "collapsed": true
   },
   "source": [
    "A motor feladata, hogy végrehajt egy teszt sort, és értékeli az eredményt. Addig folyik a tesztelés, amíg egy hibás válasz nem érkezik. (Hiba az is, ha nem érkezik válasz egy megadott időn belül, de itt figyelembe kell venni a hálózati késleltetést is.) A fuzzingot ezen a ponton úgy kéne megvalósítani, hogy az előbbi fuzzoló metódust használva a teszt alatt lévő API metódus össze lehetséges paraméterét végigtesztelni az összes lehetséges kombinációban. (Ez elvben nagyon sok, úgyhogy inkább az összes lehetséges teszt egy random részhalmazával érdemes próbálkozni.) A visszajövő válaszokat pedig minden esetben a séma alapján validálni kell (lásd 2. feladat)."
   ]
  },
  {
   "cell_type": "code",
   "execution_count": 4,
   "metadata": {},
   "outputs": [
    {
     "name": "stdout",
     "output_type": "stream",
     "text": [
      "{}\n",
      "Test 1/3\n",
      "Input: {'email': '4XV@test.com', 'password': 'Teszt', 'username': 'TesztElek5IF'}\n",
      "Output: {'id': 'hj8eype7ppd1x8k91jw4aups9w', 'auth_data': '', 'username': 'tesztelek5if', 'email': '4xv@test.com', 'last_password_update': 1525986761158, 'notify_props': {'push': 'mention', 'first_name': 'false', 'desktop_sound': 'true', 'desktop': 'mention', 'mention_keys': 'tesztelek5if,@tesztelek5if', 'email': 'true', 'channel': 'true', 'push_status': 'away', 'comments': 'never'}, 'position': '', 'first_name': '', 'auth_service': '', 'nickname': '', 'update_at': 1525986761158, 'roles': 'system_user', 'delete_at': 0, 'create_at': 1525986761158, 'locale': 'en', 'last_name': ''}\n",
      "{'user_id': 'hj8eype7ppd1x8k91jw4aups9w'}\n"
     ]
    },
    {
     "data": {
      "text/plain": [
       "[{'Input': {'email': '4XV@test.com',\n",
       "   'password': 'Teszt',\n",
       "   'username': 'TesztElek5IF'},\n",
       "  'Output': {'auth_data': '',\n",
       "   'auth_service': '',\n",
       "   'create_at': 1525986761158,\n",
       "   'delete_at': 0,\n",
       "   'email': '4xv@test.com',\n",
       "   'first_name': '',\n",
       "   'id': 'hj8eype7ppd1x8k91jw4aups9w',\n",
       "   'last_name': '',\n",
       "   'last_password_update': 1525986761158,\n",
       "   'locale': 'en',\n",
       "   'nickname': '',\n",
       "   'notify_props': {'channel': 'true',\n",
       "    'comments': 'never',\n",
       "    'desktop': 'mention',\n",
       "    'desktop_sound': 'true',\n",
       "    'email': 'true',\n",
       "    'first_name': 'false',\n",
       "    'mention_keys': 'tesztelek5if,@tesztelek5if',\n",
       "    'push': 'mention',\n",
       "    'push_status': 'away'},\n",
       "   'position': '',\n",
       "   'roles': 'system_user',\n",
       "   'update_at': 1525986761158,\n",
       "   'username': 'tesztelek5if'}}]"
      ]
     },
     "execution_count": 4,
     "metadata": {},
     "output_type": "execute_result"
    }
   ],
   "source": [
    "def run_test(flow, n = 1):\n",
    "    issue_list = []\n",
    "    cache = {}\n",
    "\n",
    "    for action in flow['setup'] if 'setup' in flow else []:\n",
    "        input_data = action['input_data'] if 'input_data' in action else {}\n",
    "        input_data.update(cache)\n",
    "        target = action['target']\n",
    "        post_process = action['post_process']\n",
    "        cache.update(post_process(target(**input_data)))\n",
    "    \n",
    "    print(cache)\n",
    "\n",
    "    for k in range(n):\n",
    "        for i, action in enumerate(flow['test']):\n",
    "            print('Test ' + str(i + 1) + '/' + str(len(flow)))\n",
    "            \n",
    "            # prepare variables\n",
    "            input_data = action['input_data'] if 'input_data' in action else {}\n",
    "            input_data.update(cache)\n",
    "            target = action['target']\n",
    "            \n",
    "            # fuzzing input\n",
    "            # ....\n",
    "            print('Input: ' + str(input_data))\n",
    "            \n",
    "            # run target\n",
    "            request, response = target(**input_data)\n",
    "            _, result = response\n",
    "            print('Output: ' + str(result))\n",
    "            \n",
    "            # validate result\n",
    "            \n",
    "            # prepare result for next \n",
    "            if 'post_process' in action:\n",
    "                post_process = action['post_process']\n",
    "                result_data = post_process(result) if post_process is not None else {'result': result}\n",
    "                cache.update(result_data)\n",
    "        \n",
    "            # save\n",
    "            issue_list.append({'Input':input_data, 'Output':result})\n",
    "    \n",
    "    print(cache)\n",
    "    \n",
    "    for action in flow['teardown'] if 'teardown' in flow else []:\n",
    "        input_data = action['input_data'] if 'input_data' in action else {}\n",
    "        input_data.update(cache)\n",
    "        target = action['target']\n",
    "        \n",
    "        result = target(**input_data)\n",
    "        \n",
    "        if 'post_process' in action:\n",
    "            post_process = action['post_process']\n",
    "            cache.update(post_process(result))    \n",
    "        \n",
    "    return issue_list\n",
    "run_test(ctf)\n"
   ]
  },
  {
   "cell_type": "code",
   "execution_count": null,
   "metadata": {},
   "outputs": [],
   "source": []
  },
  {
   "cell_type": "code",
   "execution_count": null,
   "metadata": {},
   "outputs": [],
   "source": [
    "def test_save(testlist):\n",
    "    f = open(\"archive/test-\"+datetime.datetime.now().strftime(\"%y-%m-%d-%H-%M\")+\".txt\", \"w\")\n",
    "    for item in testlist:\n",
    "        f.write(\"%s\\n\" % item)\n",
    "    f.close()\n",
    "test_save(apitestlist)"
   ]
  },
  {
   "cell_type": "code",
   "execution_count": null,
   "metadata": {},
   "outputs": [],
   "source": []
  }
 ],
 "metadata": {
  "kernelspec": {
   "display_name": "Python 3",
   "language": "python",
   "name": "python3"
  },
  "language_info": {
   "codemirror_mode": {
    "name": "ipython",
    "version": 3
   },
   "file_extension": ".py",
   "mimetype": "text/x-python",
   "name": "python",
   "nbconvert_exporter": "python",
   "pygments_lexer": "ipython3",
   "version": "3.5.4"
  }
 },
 "nbformat": 4,
 "nbformat_minor": 2
}
