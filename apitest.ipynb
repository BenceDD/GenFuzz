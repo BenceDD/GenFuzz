{
 "cells": [
  {
   "cell_type": "code",
   "execution_count": 1,
   "metadata": {},
   "outputs": [],
   "source": [
    "from mrequests import MattermostRequests\n",
    "from yamlvalidator import validate_response\n",
    "from test_flows import MattermostTestFlows"
   ]
  },
  {
   "cell_type": "code",
   "execution_count": 2,
   "metadata": {},
   "outputs": [],
   "source": [
    "# Mattermost credentials should to be placed outside of this repo.\n",
    "mr = MattermostRequests('../mattermost_credentials.json', 'mattermost-openapi-v4.yaml')\n",
    "flows = MattermostTestFlows(mr)"
   ]
  },
  {
   "cell_type": "code",
   "execution_count": 3,
   "metadata": {},
   "outputs": [],
   "source": [
    "ctf = flows.create_team_flow()"
   ]
  },
  {
   "cell_type": "markdown",
   "metadata": {},
   "source": [
    "#### API testing"
   ]
  },
  {
   "cell_type": "markdown",
   "metadata": {
    "collapsed": true
   },
   "source": [
    "A motor feladata, hogy végrehajt egy teszt sort, és értékeli az eredményt. Addig folyik a tesztelés, amíg egy hibás válasz nem érkezik. (Hiba az is, ha nem érkezik válasz egy megadott időn belül, de itt figyelembe kell venni a hálózati késleltetést is.) A fuzzingot ezen a ponton úgy kéne megvalósítani, hogy az előbbi fuzzoló metódust használva a teszt alatt lévő API metódus össze lehetséges paraméterét végigtesztelni az összes lehetséges kombinációban. (Ez elvben nagyon sok, úgyhogy inkább az összes lehetséges teszt egy random részhalmazával érdemes próbálkozni.) A visszajövő válaszokat pedig minden esetben a séma alapján validálni kell (lásd 2. feladat)."
   ]
  },
  {
   "cell_type": "code",
   "execution_count": null,
   "metadata": {},
   "outputs": [],
   "source": [
    "import datetime\n",
    "from validate import *"
   ]
  },
  {
   "cell_type": "code",
   "execution_count": 14,
   "metadata": {},
   "outputs": [
    {
     "name": "stdout",
     "output_type": "stream",
     "text": [
      "{}\n",
      "Test 1/3\n",
      "Input: {'display_name': 'Test team', 'type': 'O', 'name': 'testteamBFI0G263H9'}\n",
      "Output: {'status_code': 400, 'request_id': 'w3bj5uin1pbu3mzagx5wybu5ge', 'id': 'model.team.is_valid.characters.app_error', 'detailed_error': '', 'message': 'Name must be 2 or more lowercase alphanumeric characters'}\n"
     ]
    },
    {
     "ename": "Exception",
     "evalue": "Missing argument: team_id",
     "output_type": "error",
     "traceback": [
      "\u001b[1;31m---------------------------------------------------------------------------\u001b[0m",
      "\u001b[1;31mException\u001b[0m                                 Traceback (most recent call last)",
      "\u001b[1;32m<ipython-input-14-a0bd70ab9133>\u001b[0m in \u001b[0;36m<module>\u001b[1;34m()\u001b[0m\n\u001b[0;32m     45\u001b[0m \u001b[1;33m\u001b[0m\u001b[0m\n\u001b[0;32m     46\u001b[0m     \u001b[1;32mreturn\u001b[0m \u001b[0missue_list\u001b[0m\u001b[1;33m\u001b[0m\u001b[0m\n\u001b[1;32m---> 47\u001b[1;33m \u001b[0mrun_test\u001b[0m\u001b[1;33m(\u001b[0m\u001b[0mctf\u001b[0m\u001b[1;33m)\u001b[0m\u001b[1;33m\u001b[0m\u001b[0m\n\u001b[0m",
      "\u001b[1;32m<ipython-input-14-a0bd70ab9133>\u001b[0m in \u001b[0;36mrun_test\u001b[1;34m(flow, n)\u001b[0m\n\u001b[0;32m     42\u001b[0m         \u001b[0mtarget\u001b[0m \u001b[1;33m=\u001b[0m \u001b[0maction\u001b[0m\u001b[1;33m[\u001b[0m\u001b[1;34m'target'\u001b[0m\u001b[1;33m]\u001b[0m\u001b[1;33m\u001b[0m\u001b[0m\n\u001b[0;32m     43\u001b[0m         \u001b[0mpost_process\u001b[0m \u001b[1;33m=\u001b[0m \u001b[0maction\u001b[0m\u001b[1;33m[\u001b[0m\u001b[1;34m'post_process'\u001b[0m\u001b[1;33m]\u001b[0m\u001b[1;33m\u001b[0m\u001b[0m\n\u001b[1;32m---> 44\u001b[1;33m         \u001b[0mcache\u001b[0m\u001b[1;33m.\u001b[0m\u001b[0mupdate\u001b[0m\u001b[1;33m(\u001b[0m\u001b[0mpost_process\u001b[0m\u001b[1;33m(\u001b[0m\u001b[0mtarget\u001b[0m\u001b[1;33m(\u001b[0m\u001b[1;33m**\u001b[0m\u001b[0minput_data\u001b[0m\u001b[1;33m)\u001b[0m\u001b[1;33m)\u001b[0m\u001b[1;33m)\u001b[0m\u001b[1;33m\u001b[0m\u001b[0m\n\u001b[0m\u001b[0;32m     45\u001b[0m \u001b[1;33m\u001b[0m\u001b[0m\n\u001b[0;32m     46\u001b[0m     \u001b[1;32mreturn\u001b[0m \u001b[0missue_list\u001b[0m\u001b[1;33m\u001b[0m\u001b[0m\n",
      "\u001b[1;32m~\\Documents\\Git\\GenFuzz\\mrequests.py\u001b[0m in \u001b[0;36mmethod_wrapper\u001b[1;34m(**kwargs)\u001b[0m\n\u001b[0;32m     89\u001b[0m                 \u001b[1;32mexcept\u001b[0m \u001b[0mException\u001b[0m \u001b[1;32mas\u001b[0m \u001b[0me\u001b[0m\u001b[1;33m:\u001b[0m\u001b[1;33m\u001b[0m\u001b[0m\n\u001b[0;32m     90\u001b[0m                     \u001b[0mmessage\u001b[0m\u001b[1;33m.\u001b[0m\u001b[0mappend\u001b[0m\u001b[1;33m(\u001b[0m\u001b[0mstr\u001b[0m\u001b[1;33m(\u001b[0m\u001b[0me\u001b[0m\u001b[1;33m)\u001b[0m\u001b[1;33m)\u001b[0m\u001b[1;33m\u001b[0m\u001b[0m\n\u001b[1;32m---> 91\u001b[1;33m             \u001b[1;32mraise\u001b[0m \u001b[0mException\u001b[0m\u001b[1;33m(\u001b[0m\u001b[1;34m\" OR \"\u001b[0m\u001b[1;33m.\u001b[0m\u001b[0mjoin\u001b[0m\u001b[1;33m(\u001b[0m\u001b[0mmessage\u001b[0m\u001b[1;33m)\u001b[0m\u001b[1;33m)\u001b[0m\u001b[1;33m\u001b[0m\u001b[0m\n\u001b[0m\u001b[0;32m     92\u001b[0m         \u001b[1;32mreturn\u001b[0m \u001b[0mmethod_wrapper\u001b[0m\u001b[1;33m\u001b[0m\u001b[0m\n\u001b[0;32m     93\u001b[0m \u001b[1;33m\u001b[0m\u001b[0m\n",
      "\u001b[1;31mException\u001b[0m: Missing argument: team_id"
     ]
    }
   ],
   "source": [
    "def run_test(flow, n = 1):\n",
    "    issue_list = []\n",
    "    cache = {}\n",
    "\n",
    "    for action in flow['setup'] if 'setup' in flow else []:\n",
    "        input_data = action['input_data'] or {}\n",
    "        input_data.update(cache)\n",
    "        target = action['target']\n",
    "        post_process = action['post_process']\n",
    "        cache.update(post_process(target(**input_data)))\n",
    "    \n",
    "    print(cache)\n",
    "\n",
    "    for k in range(n):\n",
    "        for i, action in enumerate(flow['test']):\n",
    "            print('Test ' + str(i + 1) + '/' + str(len(flow)))\n",
    "            \n",
    "            # prepare variables\n",
    "            input_data = action['input_data'] or {}\n",
    "            input_data.update(cache)\n",
    "            target = action['target']\n",
    "            post_process = action['post_process']\n",
    "            \n",
    "            # fuzzing input\n",
    "            # ....\n",
    "            print('Input: ' + str(input_data))\n",
    "            \n",
    "            # run target\n",
    "            request, response = target(**input_data)\n",
    "            _, result = response\n",
    "            print('Output: ' + str(result))\n",
    "            \n",
    "            # validate result\n",
    "            \n",
    "        \n",
    "            # save\n",
    "            issue_list.append({'Input':input_data, 'Output':result})\n",
    "    \n",
    "    for action in flow['teardown'] if 'teardown' in flow else []:\n",
    "        input_data = action['input_data'] or {}\n",
    "        input_data.update(cache)\n",
    "        target = action['target']\n",
    "        post_process = action['post_process']\n",
    "        cache.update(post_process(target(**input_data)))    \n",
    "        \n",
    "    return issue_list\n",
    "run_test(ctf)\n"
   ]
  },
  {
   "cell_type": "code",
   "execution_count": null,
   "metadata": {},
   "outputs": [],
   "source": []
  },
  {
   "cell_type": "code",
   "execution_count": null,
   "metadata": {},
   "outputs": [],
   "source": [
    "def test_save(testlist):\n",
    "    f = open(\"archive/test-\"+datetime.datetime.now().strftime(\"%y-%m-%d-%H-%M\")+\".txt\", \"w\")\n",
    "    for item in testlist:\n",
    "        f.write(\"%s\\n\" % item)\n",
    "    f.close()\n",
    "test_save(apitestlist)"
   ]
  },
  {
   "cell_type": "code",
   "execution_count": null,
   "metadata": {},
   "outputs": [],
   "source": []
  }
 ],
 "metadata": {
  "kernelspec": {
   "display_name": "Python 3",
   "language": "python",
   "name": "python3"
  },
  "language_info": {
   "codemirror_mode": {
    "name": "ipython",
    "version": 3
   },
   "file_extension": ".py",
   "mimetype": "text/x-python",
   "name": "python",
   "nbconvert_exporter": "python",
   "pygments_lexer": "ipython3",
   "version": "3.5.4"
  }
 },
 "nbformat": 4,
 "nbformat_minor": 2
}
