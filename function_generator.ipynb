{
 "cells": [
  {
   "cell_type": "code",
   "execution_count": 21,
   "metadata": {
    "collapsed": true
   },
   "outputs": [],
   "source": [
    "import yaml\n",
    "import re\n",
    "\n",
    "with open('mattermost-openapi-v4.yaml') as file:\n",
    "    api_data = yaml.load(file)['paths']\n",
    "    api_functions = []\n",
    "\n",
    "    for path in api_data:\n",
    "        if \"post\" in api_data[path]:\n",
    "            api_functions.append({\n",
    "                \"description\": api_data[path][\"post\"][\"description\"].split(\"#####\")[0].replace('\\n', '\\n\\t\\t\\t').rstrip(),\n",
    "                \"path\": path,\n",
    "                \"method\": \"post\"\n",
    "            })\n",
    "\n",
    "        if \"put\" in api_data[path]:\n",
    "            api_functions.append({\n",
    "                \"description\": api_data[path][\"put\"][\"description\"].split(\"#####\")[0].replace('\\n', '\\n\\t\\t\\t').rstrip(),\n",
    "                \"path\": path,\n",
    "                \"method\": \"put\"})\n",
    "            \n",
    "with open('mrequests.py') as file:\n",
    "    implemented = {\"get\":[], \"post\":[], \"put\": [], \"delete\":[]}\n",
    "    for line in file:\n",
    "        if re.search(\"self\\.send_request\\(.*\\)\", line):\n",
    "            path = line.split(\"'\")[1].strip()\n",
    "            method = line.split(\"'\")[3].strip()\n",
    "            implemented[method].append(path)\n",
    "    \n",
    "\n",
    "with open('./mattermost_api_post_put.py', \"w\") as file:\n",
    "    for function in api_functions:\n",
    "        #function_name=\"FUNCTION_NAME\" #input()\n",
    "        if function[\"path\"] not in implemented[function[\"method\"]]:\n",
    "            #print( function[\"path\"], function[\"method\"])\n",
    "            function_schema = '    def FUNCTION_NAME(self, **kwargs):\\n        \"\"\"{0}\"\"\"\\n        return self.send_request(\\'{1}\\', \\'{2}\\', **kwargs)\\n\\n'.format(function[\"description\"], function[\"path\"], function[\"method\"])\n",
    "            file.write(function_schema)\n"
   ]
  },
  {
   "cell_type": "code",
   "execution_count": null,
   "metadata": {
    "collapsed": true
   },
   "outputs": [],
   "source": []
  },
  {
   "cell_type": "code",
   "execution_count": null,
   "metadata": {
    "collapsed": true
   },
   "outputs": [],
   "source": []
  }
 ],
 "metadata": {
  "kernelspec": {
   "display_name": "Python 3",
   "language": "python",
   "name": "python3"
  },
  "language_info": {
   "codemirror_mode": {
    "name": "ipython",
    "version": 3
   },
   "file_extension": ".py",
   "mimetype": "text/x-python",
   "name": "python",
   "nbconvert_exporter": "python",
   "pygments_lexer": "ipython3",
   "version": "3.6.1"
  }
 },
 "nbformat": 4,
 "nbformat_minor": 2
}
