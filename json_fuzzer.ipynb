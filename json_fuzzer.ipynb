{
 "cells": [
  {
   "cell_type": "code",
   "execution_count": 1,
   "metadata": {
    "collapsed": true
   },
   "outputs": [],
   "source": [
    "import os\n",
    "import json\n",
    "import random\n",
    "\n",
    "def read_samples():\n",
    "    parsing = \"./json_for_fuzzing/test_parsing/\"\n",
    "    transform = \"./json_for_fuzzing/test_transform/\"\n",
    "    json_pieces = []\n",
    "    samples = []\n",
    "    \n",
    "    for json_filename in os.listdir(parsing):\n",
    "        samples.append(parsing+json_filename)\n",
    "        \n",
    "    for json_filename in os.listdir(transform):\n",
    "        samples.append(transform+json_filename)\n",
    "    \n",
    "    for json_filename in samples:\n",
    "        with open(json_filename) as file:\n",
    "            #Not needed to parse here\n",
    "            #json_pieces.append(json.load(file))\n",
    "            try:\n",
    "                #print(file.name)\n",
    "                #print(content)\n",
    "                json_pieces.append(file.read())\n",
    "            except Exception as e:\n",
    "                print(e)\n",
    "                \n",
    "    #for element in json_pieces:\n",
    "        #print(element)\n",
    "        \n",
    "    return json_pieces"
   ]
  },
  {
   "cell_type": "code",
   "execution_count": 2,
   "metadata": {
    "collapsed": true
   },
   "outputs": [],
   "source": [
    "def json_fuzzer(input_json, root_element):\n",
    "\n",
    "    samples = read_samples()\n",
    "\n",
    "    #Parsing input string to json\n",
    "    json_input_dict = json.loads(input_json)\n",
    "        \n",
    "    p_len = len(samples)\n",
    "    json_input_dict[root_element][random.choice(list(json_input_dict[root_element]))] = samples[random.randint(0, p_len - 1)]\n",
    "    \n",
    "    return json.dumps(json_input_dict)"
   ]
  },
  {
   "cell_type": "code",
   "execution_count": 3,
   "metadata": {
    "collapsed": true
   },
   "outputs": [],
   "source": [
    "example_json = '{\"menu\": { \"id\": \"file\", \"value\": \"File\", \"popup\": \"ppp\"}}'"
   ]
  },
  {
   "cell_type": "code",
   "execution_count": 4,
   "metadata": {},
   "outputs": [
    {
     "name": "stdout",
     "output_type": "stream",
     "text": [
      "'charmap' codec can't decode byte 0x81 in position 2: character maps to <undefined>\n",
      "'charmap' codec can't decode byte 0x83 in position 3: character maps to <undefined>\n",
      "'charmap' codec can't decode byte 0x88 in position 6: character maps to <undefined>\n",
      "'charmap' codec can't decode byte 0x81 in position 2: character maps to <undefined>\n",
      "'charmap' codec can't decode byte 0x81 in position 2: character maps to <undefined>\n",
      "'charmap' codec can't decode byte 0x88 in position 6: character maps to <undefined>\n",
      "'charmap' codec can't decode byte 0x81 in position 15: character maps to <undefined>\n",
      "'charmap' codec can't decode byte 0x81 in position 4: character maps to <undefined>\n"
     ]
    },
    {
     "ename": "NameError",
     "evalue": "name 'json_pieces' is not defined",
     "output_type": "error",
     "traceback": [
      "\u001b[1;31m---------------------------------------------------------------------------\u001b[0m",
      "\u001b[1;31mNameError\u001b[0m                                 Traceback (most recent call last)",
      "\u001b[1;32m<ipython-input-4-fa4672d8a835>\u001b[0m in \u001b[0;36m<module>\u001b[1;34m()\u001b[0m\n\u001b[1;32m----> 1\u001b[1;33m \u001b[0mprint\u001b[0m\u001b[1;33m(\u001b[0m\u001b[0mjson_fuzzer\u001b[0m\u001b[1;33m(\u001b[0m\u001b[0mexample_json\u001b[0m\u001b[1;33m,\u001b[0m \u001b[1;34m\"menu\"\u001b[0m\u001b[1;33m)\u001b[0m\u001b[1;33m)\u001b[0m\u001b[1;33m\u001b[0m\u001b[0m\n\u001b[0m",
      "\u001b[1;32m<ipython-input-2-442ff6296cec>\u001b[0m in \u001b[0;36mjson_fuzzer\u001b[1;34m(input_json, root_element)\u001b[0m\n\u001b[0;32m      6\u001b[0m     \u001b[0mjson_input_dict\u001b[0m \u001b[1;33m=\u001b[0m \u001b[0mjson\u001b[0m\u001b[1;33m.\u001b[0m\u001b[0mloads\u001b[0m\u001b[1;33m(\u001b[0m\u001b[0minput_json\u001b[0m\u001b[1;33m)\u001b[0m\u001b[1;33m\u001b[0m\u001b[0m\n\u001b[0;32m      7\u001b[0m \u001b[1;33m\u001b[0m\u001b[0m\n\u001b[1;32m----> 8\u001b[1;33m     \u001b[0mp_len\u001b[0m \u001b[1;33m=\u001b[0m \u001b[0mlen\u001b[0m\u001b[1;33m(\u001b[0m\u001b[0mjson_pieces\u001b[0m\u001b[1;33m)\u001b[0m\u001b[1;33m\u001b[0m\u001b[0m\n\u001b[0m\u001b[0;32m      9\u001b[0m     \u001b[0mjson_input_dict\u001b[0m\u001b[1;33m[\u001b[0m\u001b[0mroot_element\u001b[0m\u001b[1;33m]\u001b[0m\u001b[1;33m[\u001b[0m\u001b[0mrandom\u001b[0m\u001b[1;33m.\u001b[0m\u001b[0mchoice\u001b[0m\u001b[1;33m(\u001b[0m\u001b[0mlist\u001b[0m\u001b[1;33m(\u001b[0m\u001b[0mjson_input_dict\u001b[0m\u001b[1;33m[\u001b[0m\u001b[0mroot_element\u001b[0m\u001b[1;33m]\u001b[0m\u001b[1;33m)\u001b[0m\u001b[1;33m)\u001b[0m\u001b[1;33m]\u001b[0m \u001b[1;33m=\u001b[0m \u001b[0msamples\u001b[0m\u001b[1;33m[\u001b[0m\u001b[0mrandom\u001b[0m\u001b[1;33m.\u001b[0m\u001b[0mrandint\u001b[0m\u001b[1;33m(\u001b[0m\u001b[1;36m0\u001b[0m\u001b[1;33m,\u001b[0m \u001b[0mp_len\u001b[0m \u001b[1;33m-\u001b[0m \u001b[1;36m1\u001b[0m\u001b[1;33m)\u001b[0m\u001b[1;33m]\u001b[0m\u001b[1;33m\u001b[0m\u001b[0m\n\u001b[0;32m     10\u001b[0m \u001b[1;33m\u001b[0m\u001b[0m\n",
      "\u001b[1;31mNameError\u001b[0m: name 'json_pieces' is not defined"
     ]
    }
   ],
   "source": [
    "print(json_fuzzer(example_json, \"menu\"))"
   ]
  },
  {
   "cell_type": "code",
   "execution_count": null,
   "metadata": {
    "collapsed": true
   },
   "outputs": [],
   "source": []
  },
  {
   "cell_type": "code",
   "execution_count": null,
   "metadata": {
    "collapsed": true
   },
   "outputs": [],
   "source": []
  },
  {
   "cell_type": "code",
   "execution_count": null,
   "metadata": {
    "collapsed": true
   },
   "outputs": [],
   "source": []
  },
  {
   "cell_type": "code",
   "execution_count": null,
   "metadata": {
    "collapsed": true
   },
   "outputs": [],
   "source": []
  }
 ],
 "metadata": {
  "kernelspec": {
   "display_name": "Python 3",
   "language": "python",
   "name": "python3"
  },
  "language_info": {
   "codemirror_mode": {
    "name": "ipython",
    "version": 3
   },
   "file_extension": ".py",
   "mimetype": "text/x-python",
   "name": "python",
   "nbconvert_exporter": "python",
   "pygments_lexer": "ipython3",
   "version": "3.6.1"
  }
 },
 "nbformat": 4,
 "nbformat_minor": 2
}
