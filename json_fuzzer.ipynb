{
 "cells": [
  {
   "cell_type": "code",
   "execution_count": 41,
   "metadata": {},
   "outputs": [],
   "source": [
    "import os\n",
    "import json\n",
    "import random\n",
    "from jsonfuzzer import JSONFuzzer\n",
    "from yamlhandler import YAMLHandler\n",
    "\n",
    "def __read_samples():\n",
    "    parsing = \"./json_for_fuzzing/test_parsing/\"\n",
    "    transform = \"./json_for_fuzzing/test_transform/\"\n",
    "    json_pieces = []\n",
    "    samples = []\n",
    "    \n",
    "    __fill_samples(samples, parsing)\n",
    "    __fill_samples(samples, transform)   \n",
    "    \n",
    "    for json_filename in samples:\n",
    "        #print(json_filename)\n",
    "        with open(json_filename) as file:\n",
    "            try:\n",
    "                #print(file.name)\n",
    "                json_pieces.append(file.read())\n",
    "            except Exception as e:\n",
    "                print(e)\n",
    "\n",
    "    return json_pieces"
   ]
  },
  {
   "cell_type": "code",
   "execution_count": 11,
   "metadata": {},
   "outputs": [],
   "source": [
    "def __fill_samples(samples, directory):\n",
    "    for json_filename in os.listdir(directory):\n",
    "        # Only the ones which are supposed to fail on the parser\n",
    "        if(json_filename.startswith(\"n_\")):\n",
    "            samples.append(directory + json_filename)"
   ]
  },
  {
   "cell_type": "code",
   "execution_count": 12,
   "metadata": {},
   "outputs": [],
   "source": [
    "def json_fuzzer(path, method_type):\n",
    "    \n",
    "    handler = YAMLHandler(\"./mattermost-openapi-v4.yaml\")\n",
    "    handled_request = handler.get_request_params(path, method_type)\n",
    "    \n",
    "    random_item = __get_random_element(handled_request[0])\n",
    "    random_sample = __get_random_failing_sample()\n",
    "\n",
    "    print('RANDOM ITEM: {0} - SAMPLE: {1}'.format(random_item, random_sample))\n",
    "    \n",
    "    handled_request[0][random_item] = random_sample\n",
    "    \n",
    "    return json.dumps(handled_request)"
   ]
  },
  {
   "cell_type": "code",
   "execution_count": 13,
   "metadata": {},
   "outputs": [],
   "source": [
    "def __get_random_element(dictionary):\n",
    "    return random.choice(list(dictionary))"
   ]
  },
  {
   "cell_type": "code",
   "execution_count": 14,
   "metadata": {},
   "outputs": [],
   "source": [
    "def __get_random_failing_sample():\n",
    "    return samples[random.randint(0, samples_length - 1)]"
   ]
  },
  {
   "cell_type": "code",
   "execution_count": 15,
   "metadata": {},
   "outputs": [],
   "source": [
    "def test_cases():\n",
    "    critical_cases = [('/users', 'post'),\n",
    " ('/users/{user_id}', 'put'),\n",
    " ('/users/{user_id}/patch', 'put'),\n",
    " ('/users/{user_id}/preferences', 'put'),\n",
    " ('/teams/{team_id}/members/batch', 'post'),\n",
    " ('/teams/{team_id}/members', 'post'),\n",
    " ('/users/{user_id}/preferences/delete', 'post'),\n",
    " ('/file/s3_test', 'post'),\n",
    " ('/commands/{command_id}', 'put'),\n",
    " ('/channels/{channel_id}/members/{user_id}/notify_props', 'put'),\n",
    " ('/users/{user_id}/auth', 'put'),\n",
    " ('/email/test', 'post'),\n",
    " ('/config', 'put')]\n",
    "    \n",
    "    for case in critical_cases:\n",
    "        print(json_fuzzer(case[0], case[1]))"
   ]
  },
  {
   "cell_type": "code",
   "execution_count": 16,
   "metadata": {},
   "outputs": [
    {
     "name": "stdout",
     "output_type": "stream",
     "text": [
      "'charmap' codec can't decode byte 0x81 in position 2: character maps to <undefined>\n",
      "'charmap' codec can't decode byte 0x81 in position 2: character maps to <undefined>\n"
     ]
    }
   ],
   "source": [
    "samples = __read_samples()\n",
    "samples_length = len(samples)"
   ]
  },
  {
   "cell_type": "code",
   "execution_count": 42,
   "metadata": {},
   "outputs": [],
   "source": [
    "#test_cases()"
   ]
  },
  {
   "cell_type": "code",
   "execution_count": 43,
   "metadata": {},
   "outputs": [
    {
     "ename": "NameError",
     "evalue": "name 'read_samples' is not defined",
     "output_type": "error",
     "traceback": [
      "\u001b[1;31m---------------------------------------------------------------------------\u001b[0m",
      "\u001b[1;31mNameError\u001b[0m                                 Traceback (most recent call last)",
      "\u001b[1;32m<ipython-input-43-6e2a54ebd987>\u001b[0m in \u001b[0;36m<module>\u001b[1;34m()\u001b[0m\n\u001b[1;32m----> 1\u001b[1;33m \u001b[0mfuzzer\u001b[0m \u001b[1;33m=\u001b[0m \u001b[0mJSONFuzzer\u001b[0m\u001b[1;33m(\u001b[0m\u001b[1;33m)\u001b[0m\u001b[1;33m\u001b[0m\u001b[0m\n\u001b[0m",
      "\u001b[1;32mc:\\Users\\cataclyst\\GenFuzz\\GenFuzz\\jsonfuzzer.py\u001b[0m in \u001b[0;36m__init__\u001b[1;34m(self)\u001b[0m\n\u001b[0;32m      7\u001b[0m \u001b[1;33m\u001b[0m\u001b[0m\n\u001b[0;32m      8\u001b[0m     \u001b[1;32mdef\u001b[0m \u001b[0m__init__\u001b[0m\u001b[1;33m(\u001b[0m\u001b[0mself\u001b[0m\u001b[1;33m)\u001b[0m\u001b[1;33m:\u001b[0m\u001b[1;33m\u001b[0m\u001b[0m\n\u001b[1;32m----> 9\u001b[1;33m         \u001b[0mself\u001b[0m\u001b[1;33m.\u001b[0m\u001b[0msamples\u001b[0m \u001b[1;33m=\u001b[0m \u001b[1;32mNone\u001b[0m\u001b[1;33m\u001b[0m\u001b[0m\n\u001b[0m\u001b[0;32m     10\u001b[0m \u001b[1;33m\u001b[0m\u001b[0m\n\u001b[0;32m     11\u001b[0m     \u001b[1;32mdef\u001b[0m \u001b[0m__read_samples\u001b[0m\u001b[1;33m(\u001b[0m\u001b[0mself\u001b[0m\u001b[1;33m)\u001b[0m\u001b[1;33m:\u001b[0m\u001b[1;33m\u001b[0m\u001b[0m\n",
      "\u001b[1;31mNameError\u001b[0m: name 'read_samples' is not defined"
     ]
    }
   ],
   "source": [
    "fuzzer = JSONFuzzer()"
   ]
  },
  {
   "cell_type": "code",
   "execution_count": null,
   "metadata": {},
   "outputs": [],
   "source": []
  }
 ],
 "metadata": {
  "kernelspec": {
   "display_name": "Python 3",
   "language": "python",
   "name": "python3"
  },
  "language_info": {
   "codemirror_mode": {
    "name": "ipython",
    "version": 3
   },
   "file_extension": ".py",
   "mimetype": "text/x-python",
   "name": "python",
   "nbconvert_exporter": "python",
   "pygments_lexer": "ipython3",
   "version": "3.6.5"
  }
 },
 "nbformat": 4,
 "nbformat_minor": 2
}
