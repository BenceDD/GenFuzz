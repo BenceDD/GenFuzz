{
 "cells": [
  {
   "cell_type": "code",
   "execution_count": 11,
   "metadata": {},
   "outputs": [],
   "source": [
    "import os\n",
    "import json\n",
    "import random\n",
    "from jsonfuzzer import JSONFuzzer\n",
    "from yamlhandler import YAMLHandler"
   ]
  },
  {
   "cell_type": "code",
   "execution_count": 12,
   "metadata": {
    "scrolled": true
   },
   "outputs": [
    {
     "name": "stdout",
     "output_type": "stream",
     "text": [
      "'charmap' codec can't decode byte 0x81 in position 2: character maps to <undefined>\n",
      "'charmap' codec can't decode byte 0x81 in position 2: character maps to <undefined>\n"
     ]
    }
   ],
   "source": [
    "fuzzer = JSONFuzzer()"
   ]
  },
  {
   "cell_type": "code",
   "execution_count": 15,
   "metadata": {},
   "outputs": [],
   "source": [
    "def test_cases():\n",
    "    critical_cases = [('/users', 'post'),\n",
    " ('/users/{user_id}', 'put'),\n",
    " ('/users/{user_id}/patch', 'put'),\n",
    " ('/users/{user_id}/preferences', 'put'),\n",
    " ('/teams/{team_id}/members/batch', 'post'),\n",
    " ('/teams/{team_id}/members', 'post'),\n",
    " ('/users/{user_id}/preferences/delete', 'post'),\n",
    " ('/file/s3_test', 'post'),\n",
    " ('/commands/{command_id}', 'put'),\n",
    " ('/channels/{channel_id}/members/{user_id}/notify_props', 'put'),\n",
    " ('/users/{user_id}/auth', 'put'),\n",
    " ('/email/test', 'post'),\n",
    " ('/config', 'put')]\n",
    "    \n",
    "    for case in critical_cases:\n",
    "        print(fuzzer.fuzz((case[0], case[1])))"
   ]
  },
  {
   "cell_type": "code",
   "execution_count": 16,
   "metadata": {},
   "outputs": [
    {
     "ename": "AttributeError",
     "evalue": "'JSONFuzzer' object has no attribute 'fuzz'",
     "output_type": "error",
     "traceback": [
      "\u001b[1;31m---------------------------------------------------------------------------\u001b[0m",
      "\u001b[1;31mAttributeError\u001b[0m                            Traceback (most recent call last)",
      "\u001b[1;32m<ipython-input-16-6dba593da5da>\u001b[0m in \u001b[0;36m<module>\u001b[1;34m()\u001b[0m\n\u001b[1;32m----> 1\u001b[1;33m \u001b[0mtest_cases\u001b[0m\u001b[1;33m(\u001b[0m\u001b[1;33m)\u001b[0m\u001b[1;33m\u001b[0m\u001b[0m\n\u001b[0m",
      "\u001b[1;32m<ipython-input-15-5bf78bdddad7>\u001b[0m in \u001b[0;36mtest_cases\u001b[1;34m()\u001b[0m\n\u001b[0;32m     15\u001b[0m \u001b[1;33m\u001b[0m\u001b[0m\n\u001b[0;32m     16\u001b[0m     \u001b[1;32mfor\u001b[0m \u001b[0mcase\u001b[0m \u001b[1;32min\u001b[0m \u001b[0mcritical_cases\u001b[0m\u001b[1;33m:\u001b[0m\u001b[1;33m\u001b[0m\u001b[0m\n\u001b[1;32m---> 17\u001b[1;33m         \u001b[0mprint\u001b[0m\u001b[1;33m(\u001b[0m\u001b[0mfuzzer\u001b[0m\u001b[1;33m.\u001b[0m\u001b[0mfuzz\u001b[0m\u001b[1;33m(\u001b[0m\u001b[1;33m(\u001b[0m\u001b[0mcase\u001b[0m\u001b[1;33m[\u001b[0m\u001b[1;36m0\u001b[0m\u001b[1;33m]\u001b[0m\u001b[1;33m,\u001b[0m \u001b[0mcase\u001b[0m\u001b[1;33m[\u001b[0m\u001b[1;36m1\u001b[0m\u001b[1;33m]\u001b[0m\u001b[1;33m)\u001b[0m\u001b[1;33m)\u001b[0m\u001b[1;33m)\u001b[0m\u001b[1;33m\u001b[0m\u001b[0m\n\u001b[0m",
      "\u001b[1;31mAttributeError\u001b[0m: 'JSONFuzzer' object has no attribute 'fuzz'"
     ]
    }
   ],
   "source": [
    "test_cases()"
   ]
  },
  {
   "cell_type": "code",
   "execution_count": null,
   "metadata": {},
   "outputs": [],
   "source": []
  }
 ],
 "metadata": {
  "kernelspec": {
   "display_name": "Python 3",
   "language": "python",
   "name": "python3"
  },
  "language_info": {
   "codemirror_mode": {
    "name": "ipython",
    "version": 3
   },
   "file_extension": ".py",
   "mimetype": "text/x-python",
   "name": "python",
   "nbconvert_exporter": "python",
   "pygments_lexer": "ipython3",
   "version": "3.6.5"
  }
 },
 "nbformat": 4,
 "nbformat_minor": 2
}
