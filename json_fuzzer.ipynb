{
 "cells": [
  {
   "cell_type": "code",
   "execution_count": 61,
   "metadata": {},
   "outputs": [],
   "source": [
    "\n",
    "import os\n",
    "import json\n",
    "import random\n",
    "\n",
    "\n",
    "def read_samples():\n",
    "    parsing = \"./json_for_fuzzing/test_parsing/\"\n",
    "    transform = \"./json_for_fuzzing/test_transform/\"\n",
    "    json_pieces = []\n",
    "    samples = []\n",
    "    \n",
    "    for json_filename in os.listdir(parsing):\n",
    "        samples.append(parsing+json_filename)\n",
    "        \n",
    "    for json_filename in os.listdir(transform):\n",
    "        samples.append(transform+json_filename)\n",
    "    \n",
    "    for json_filename in samples:\n",
    "        with open(json_filename) as file:\n",
    "            #Not needed to parse here\n",
    "            #json_pieces.append(json.load(file))\n",
    "            try:\n",
    "                #print(file.name)\n",
    "                #print(content)\n",
    "                json_pieces.append(file.read())\n",
    "            except Exception as e:\n",
    "                print(e)\n",
    "                \n",
    "    #for element in json_pieces:\n",
    "        #print(element)\n",
    "        \n",
    "    return json_pieces"
   ]
  },
  {
   "cell_type": "code",
   "execution_count": 62,
   "metadata": {},
   "outputs": [],
   "source": [
    "def json_fuzzer(input_json, root_element):\n",
    "\n",
    "    samples = read_samples()\n",
    "\n",
    "    #Parsing input string to json\n",
    "    json_input_dict = json.loads(input_json)\n",
    "        \n",
    "    p_len = len(json_pieces)\n",
    "    json_input_dict[root_element][random.choice(list(json_input_dict[root_element]))] = samples[random.randint(0, p_len - 1)]\n",
    "    \n",
    "    return json.dumps(json_input_dict)"
   ]
  },
  {
   "cell_type": "code",
   "execution_count": 63,
   "metadata": {},
   "outputs": [],
   "source": [
    "example_json = '{\"menu\": { \"id\": \"file\", \"value\": \"File\", \"popup\": \"ppp\"}}'"
   ]
  },
  {
   "cell_type": "code",
   "execution_count": 64,
   "metadata": {},
   "outputs": [
    {
     "name": "stdout",
     "output_type": "stream",
     "text": [
      "'charmap' codec can't decode byte 0x81 in position 2: character maps to <undefined>\n",
      "'charmap' codec can't decode byte 0x83 in position 3: character maps to <undefined>\n",
      "'charmap' codec can't decode byte 0x88 in position 6: character maps to <undefined>\n",
      "'charmap' codec can't decode byte 0x81 in position 2: character maps to <undefined>\n",
      "'charmap' codec can't decode byte 0x81 in position 2: character maps to <undefined>\n",
      "'charmap' codec can't decode byte 0x88 in position 6: character maps to <undefined>\n",
      "'charmap' codec can't decode byte 0x81 in position 15: character maps to <undefined>\n",
      "'charmap' codec can't decode byte 0x81 in position 4: character maps to <undefined>\n",
      "{\"menu\": {\"id\": \" [] \", \"value\": \"File\", \"popup\": \"ppp\"}}\n"
     ]
    }
   ],
   "source": [
    "print(json_fuzzer(example_json, \"menu\"))"
   ]
  },
  {
   "cell_type": "code",
   "execution_count": null,
   "metadata": {},
   "outputs": [],
   "source": []
  },
  {
   "cell_type": "code",
   "execution_count": null,
   "metadata": {},
   "outputs": [],
   "source": []
  },
  {
   "cell_type": "code",
   "execution_count": null,
   "metadata": {},
   "outputs": [],
   "source": []
  },
  {
   "cell_type": "code",
   "execution_count": null,
   "metadata": {},
   "outputs": [],
   "source": []
  }
 ],
 "metadata": {
  "kernelspec": {
   "display_name": "Python 3",
   "language": "python",
   "name": "python3"
  },
  "language_info": {
   "codemirror_mode": {
    "name": "ipython",
    "version": 3
   },
   "file_extension": ".py",
   "mimetype": "text/x-python",
   "name": "python",
   "nbconvert_exporter": "python",
   "pygments_lexer": "ipython3",
   "version": "3.6.4"
  }
 },
 "nbformat": 4,
 "nbformat_minor": 2
}
