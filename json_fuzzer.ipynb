{
 "cells": [
  {
   "cell_type": "code",
   "execution_count": null,
   "metadata": {},
   "outputs": [],
   "source": [
    "# import os\n",
    "import json\n",
    "import random\n",
    "from yamlhandler import YAMLHandler\n",
    "\n",
    "def read_samples():\n",
    "    parsing = \"./json_for_fuzzing/test_parsing/\"\n",
    "    transform = \"./json_for_fuzzing/test_transform/\"\n",
    "    json_pieces = []\n",
    "    samples = []\n",
    "    \n",
    "    fill_samples(samples, parsing)\n",
    "    fill_samples(samples, transform)   \n",
    "    \n",
    "    for json_filename in samples:\n",
    "        #print(json_filename)\n",
    "        with open(json_filename) as file:\n",
    "            try:\n",
    "                #print(file.name)\n",
    "                #print(content)\n",
    "                json_pieces.append(file.read())\n",
    "            except Exception as e:\n",
    "                print(e)\n",
    "\n",
    "    return json_pieces"
   ]
  },
  {
   "cell_type": "code",
   "execution_count": 217,
   "metadata": {},
   "outputs": [],
   "source": [
    "def fill_samples(samples, directory):\n",
    "    for json_filename in os.listdir(directory):\n",
    "        if(json_filename.startswith(\"n_\")):\n",
    "            samples.append(directory + json_filename)"
   ]
  },
  {
   "cell_type": "code",
   "execution_count": 233,
   "metadata": {},
   "outputs": [],
   "source": [
    "def json_fuzzer(path, method_type):\n",
    "    \n",
    "    handler = YAMLHandler(\"./mattermost-openapi-v4.yaml\")\n",
    "    handled_request = handler.get_request_params(path, method_type)\n",
    "    \n",
    "    random_item = get_random_element(handled_request[0])\n",
    "    random_sample = samples[random.randint(0, samples_length - 1)]\n",
    "\n",
    "    print('RANDOM ITEM: {0} - SAMPLE: {1}'.format(random_item, random_sample))\n",
    "    \n",
    "    handled_request[0][random_item] = random_sample\n",
    "    \n",
    "    return json.dumps(handled_request)"
   ]
  },
  {
   "cell_type": "code",
   "execution_count": 234,
   "metadata": {},
   "outputs": [],
   "source": [
    "def get_random_element(dictionary):\n",
    "    return random.choice(list(dictionary))"
   ]
  },
  {
   "cell_type": "code",
   "execution_count": 235,
   "metadata": {},
   "outputs": [],
   "source": [
    "def get_random_failing_sample():\n",
    "    samples[random.randint(0, samples_length - 1)]"
   ]
  },
  {
   "cell_type": "code",
   "execution_count": 236,
   "metadata": {},
   "outputs": [
    {
     "name": "stdout",
     "output_type": "stream",
     "text": [
      "'charmap' codec can't decode byte 0x81 in position 2: character maps to <undefined>\n",
      "'charmap' codec can't decode byte 0x81 in position 2: character maps to <undefined>\n"
     ]
    }
   ],
   "source": [
    "samples = read_samples()\n",
    "samples_length = len(samples)\n",
    "\n",
    "example_path = '/users'"
   ]
  },
  {
   "cell_type": "code",
   "execution_count": 237,
   "metadata": {},
   "outputs": [
    {
     "name": "stdout",
     "output_type": "stream",
     "text": [
      "<class 'dict'>\n",
      "RANDOM ITEM: required - SAMPLE: [.-1]\n",
      "[{\"in\": \"body\", \"name\": \"body\", \"description\": \"User object to be created\", \"required\": \"[.-1]\", \"schema\": {\"type\": \"object\", \"required\": [\"email\", \"username\", \"password\"], \"properties\": {\"email\": {\"type\": \"string\"}, \"username\": {\"type\": \"string\"}, \"first_name\": {\"type\": \"string\"}, \"last_name\": {\"type\": \"string\"}, \"nickname\": {\"type\": \"string\"}, \"password\": {\"type\": \"string\"}, \"locale\": {\"type\": \"string\"}, \"props\": {\"type\": \"object\"}, \"notify_props\": {\"type\": \"object\", \"properties\": {\"email\": {\"type\": \"string\", \"description\": \"Set to \\\"true\\\" to enable email notifications, \\\"false\\\" to disable. Defaults to \\\"true\\\".\"}, \"push\": {\"type\": \"string\", \"description\": \"Set to \\\"all\\\" to receive push notifications for all activity, \\\"mention\\\" for mentions and direct messages only, and \\\"none\\\" to disable. Defaults to \\\"mention\\\".\"}, \"desktop\": {\"type\": \"string\", \"description\": \"Set to \\\"all\\\" to receive desktop notifications for all activity, \\\"mention\\\" for mentions and direct messages only, and \\\"none\\\" to disable. Defaults to \\\"all\\\".\"}, \"desktop_sound\": {\"type\": \"string\", \"description\": \"Set to \\\"true\\\" to enable sound on desktop notifications, \\\"false\\\" to disable. Defaults to \\\"true\\\".\"}, \"mention_keys\": {\"type\": \"string\", \"description\": \"A comma-separated list of words to count as mentions. Defaults to username and @username.\"}, \"channel\": {\"type\": \"string\", \"description\": \"Set to \\\"true\\\" to enable channel-wide notifications (@channel, @all, etc.), \\\"false\\\" to disable. Defaults to \\\"true\\\".\"}, \"first_name\": {\"type\": \"string\", \"description\": \"Set to \\\"true\\\" to enable mentions for first name. Defaults to \\\"true\\\" if a first name is set, \\\"false\\\" otherwise.\"}}}}}}]\n"
     ]
    }
   ],
   "source": [
    "print(json_fuzzer(example_path, \"post\"))"
   ]
  },
  {
   "cell_type": "code",
   "execution_count": 238,
   "metadata": {},
   "outputs": [],
   "source": [
    "def test_cases():\n",
    "    critical_cases = [('/users', 'post'),\n",
    " ('/users/{user_id}', 'put'),\n",
    " ('/users/{user_id}/patch', 'put'),\n",
    " ('/users/{user_id}/preferences', 'put'),\n",
    " ('/teams/{team_id}/members/batch', 'post'),\n",
    " ('/teams/{team_id}/members', 'post'),\n",
    " ('/users/{user_id}/preferences/delete', 'post'),\n",
    " ('/file/s3_test', 'post'),\n",
    " ('/commands/{command_id}', 'put'),\n",
    " ('/channels/{channel_id}/members/{user_id}/notify_props', 'put'),\n",
    " ('/users/{user_id}/auth', 'put'),\n",
    " ('/email/test', 'post'),\n",
    " ('/config', 'put')]\n",
    "    \n",
    "    for case in critical_cases:\n",
    "        print(json_fuzzer(case[0], case[1]))"
   ]
  },
  {
   "cell_type": "code",
   "execution_count": 239,
   "metadata": {},
   "outputs": [
    {
     "name": "stdout",
     "output_type": "stream",
     "text": [
      "<class 'dict'>\n",
      "RANDOM ITEM: required - SAMPLE: [   , \"\"]\n",
      "[{\"in\": \"body\", \"name\": \"body\", \"description\": \"User object to be created\", \"required\": \"[   , \\\"\\\"]\", \"schema\": {\"type\": \"object\", \"required\": [\"email\", \"username\", \"password\"], \"properties\": {\"email\": {\"type\": \"string\"}, \"username\": {\"type\": \"string\"}, \"first_name\": {\"type\": \"string\"}, \"last_name\": {\"type\": \"string\"}, \"nickname\": {\"type\": \"string\"}, \"password\": {\"type\": \"string\"}, \"locale\": {\"type\": \"string\"}, \"props\": {\"type\": \"object\"}, \"notify_props\": {\"type\": \"object\", \"properties\": {\"email\": {\"type\": \"string\", \"description\": \"Set to \\\"true\\\" to enable email notifications, \\\"false\\\" to disable. Defaults to \\\"true\\\".\"}, \"push\": {\"type\": \"string\", \"description\": \"Set to \\\"all\\\" to receive push notifications for all activity, \\\"mention\\\" for mentions and direct messages only, and \\\"none\\\" to disable. Defaults to \\\"mention\\\".\"}, \"desktop\": {\"type\": \"string\", \"description\": \"Set to \\\"all\\\" to receive desktop notifications for all activity, \\\"mention\\\" for mentions and direct messages only, and \\\"none\\\" to disable. Defaults to \\\"all\\\".\"}, \"desktop_sound\": {\"type\": \"string\", \"description\": \"Set to \\\"true\\\" to enable sound on desktop notifications, \\\"false\\\" to disable. Defaults to \\\"true\\\".\"}, \"mention_keys\": {\"type\": \"string\", \"description\": \"A comma-separated list of words to count as mentions. Defaults to username and @username.\"}, \"channel\": {\"type\": \"string\", \"description\": \"Set to \\\"true\\\" to enable channel-wide notifications (@channel, @all, etc.), \\\"false\\\" to disable. Defaults to \\\"true\\\".\"}, \"first_name\": {\"type\": \"string\", \"description\": \"Set to \\\"true\\\" to enable mentions for first name. Defaults to \\\"true\\\" if a first name is set, \\\"false\\\" otherwise.\"}}}}}}]\n",
      "<class 'dict'>\n",
      "RANDOM ITEM: type - SAMPLE: [9.e+]\n",
      "[{\"name\": \"user_id\", \"in\": \"path\", \"description\": \"User GUID\", \"required\": true, \"type\": \"[9.e+]\"}, {\"in\": \"body\", \"name\": \"body\", \"description\": \"User object that is to be updated\", \"required\": true, \"schema\": {\"type\": \"object\", \"required\": [\"id\"], \"properties\": {\"id\": {\"type\": \"string\"}, \"email\": {\"type\": \"string\"}, \"username\": {\"type\": \"string\"}, \"first_name\": {\"type\": \"string\"}, \"last_name\": {\"type\": \"string\"}, \"nickname\": {\"type\": \"string\"}, \"locale\": {\"type\": \"string\"}, \"position\": {\"type\": \"string\"}, \"props\": {\"type\": \"object\"}, \"notify_props\": {\"type\": \"object\", \"properties\": {\"email\": {\"type\": \"string\", \"description\": \"Set to \\\"true\\\" to enable email notifications, \\\"false\\\" to disable. Defaults to \\\"true\\\".\"}, \"push\": {\"type\": \"string\", \"description\": \"Set to \\\"all\\\" to receive push notifications for all activity, \\\"mention\\\" for mentions and direct messages only, and \\\"none\\\" to disable. Defaults to \\\"mention\\\".\"}, \"desktop\": {\"type\": \"string\", \"description\": \"Set to \\\"all\\\" to receive desktop notifications for all activity, \\\"mention\\\" for mentions and direct messages only, and \\\"none\\\" to disable. Defaults to \\\"all\\\".\"}, \"desktop_sound\": {\"type\": \"string\", \"description\": \"Set to \\\"true\\\" to enable sound on desktop notifications, \\\"false\\\" to disable. Defaults to \\\"true\\\".\"}, \"mention_keys\": {\"type\": \"string\", \"description\": \"A comma-separated list of words to count as mentions. Defaults to username and @username.\"}, \"channel\": {\"type\": \"string\", \"description\": \"Set to \\\"true\\\" to enable channel-wide notifications (@channel, @all, etc.), \\\"false\\\" to disable. Defaults to \\\"true\\\".\"}, \"first_name\": {\"type\": \"string\", \"description\": \"Set to \\\"true\\\" to enable mentions for first name. Defaults to \\\"true\\\" if a first name is set, \\\"false\\\" otherwise.\"}}}}}}]\n",
      "<class 'dict'>\n",
      "RANDOM ITEM: name - SAMPLE: [1eE2]\n",
      "[{\"name\": \"[1eE2]\", \"in\": \"path\", \"description\": \"User GUID\", \"required\": true, \"type\": \"string\"}, {\"in\": \"body\", \"name\": \"body\", \"description\": \"User object that is to be updated\", \"required\": true, \"schema\": {\"type\": \"object\", \"properties\": {\"email\": {\"type\": \"string\"}, \"username\": {\"type\": \"string\"}, \"first_name\": {\"type\": \"string\"}, \"last_name\": {\"type\": \"string\"}, \"nickname\": {\"type\": \"string\"}, \"locale\": {\"type\": \"string\"}, \"position\": {\"type\": \"string\"}, \"props\": {\"type\": \"object\"}, \"notify_props\": {\"type\": \"object\", \"properties\": {\"email\": {\"type\": \"string\", \"description\": \"Set to \\\"true\\\" to enable email notifications, \\\"false\\\" to disable. Defaults to \\\"true\\\".\"}, \"push\": {\"type\": \"string\", \"description\": \"Set to \\\"all\\\" to receive push notifications for all activity, \\\"mention\\\" for mentions and direct messages only, and \\\"none\\\" to disable. Defaults to \\\"mention\\\".\"}, \"desktop\": {\"type\": \"string\", \"description\": \"Set to \\\"all\\\" to receive desktop notifications for all activity, \\\"mention\\\" for mentions and direct messages only, and \\\"none\\\" to disable. Defaults to \\\"all\\\".\"}, \"desktop_sound\": {\"type\": \"string\", \"description\": \"Set to \\\"true\\\" to enable sound on desktop notifications, \\\"false\\\" to disable. Defaults to \\\"true\\\".\"}, \"mention_keys\": {\"type\": \"string\", \"description\": \"A comma-separated list of words to count as mentions. Defaults to username and @username.\"}, \"channel\": {\"type\": \"string\", \"description\": \"Set to \\\"true\\\" to enable channel-wide notifications (@channel, @all, etc.), \\\"false\\\" to disable. Defaults to \\\"true\\\".\"}, \"first_name\": {\"type\": \"string\", \"description\": \"Set to \\\"true\\\" to enable mentions for first name. Defaults to \\\"true\\\" if a first name is set, \\\"false\\\" otherwise.\"}}}}}}]\n",
      "<class 'dict'>\n",
      "RANDOM ITEM: required - SAMPLE: [\"x\", truth]\n",
      "[{\"name\": \"user_id\", \"in\": \"path\", \"description\": \"User GUID\", \"required\": \"[\\\"x\\\", truth]\", \"type\": \"string\"}, {\"in\": \"body\", \"name\": \"body\", \"description\": \"List of preference object\", \"required\": true, \"schema\": {\"type\": \"array\", \"items\": {\"type\": \"object\", \"properties\": {\"user_id\": {\"description\": \"The ID of the user that owns this preference\", \"type\": \"string\"}, \"category\": {\"type\": \"string\"}, \"name\": {\"type\": \"string\"}, \"value\": {\"type\": \"string\"}}}}}]\n",
      "<class 'dict'>\n",
      "RANDOM ITEM: type - SAMPLE: [\"a\"\n",
      "[{\"name\": \"team_id\", \"in\": \"path\", \"description\": \"Team GUID\", \"required\": true, \"type\": \"[\\\"a\\\"\"}, {\"in\": \"body\", \"name\": \"body\", \"required\": true, \"schema\": {\"type\": \"array\", \"items\": {\"type\": \"object\", \"properties\": {\"team_id\": {\"type\": \"string\"}, \"user_id\": {\"type\": \"string\"}, \"roles\": {\"type\": \"string\"}}}}}]\n",
      "<class 'dict'>\n",
      "RANDOM ITEM: in - SAMPLE: [1,\n",
      "[{\"name\": \"team_id\", \"in\": \"[1,\", \"description\": \"Team GUID\", \"required\": true, \"type\": \"string\"}, {\"in\": \"body\", \"name\": \"body\", \"required\": true, \"schema\": {\"type\": \"object\", \"properties\": {\"team_id\": {\"type\": \"string\"}, \"user_id\": {\"type\": \"string\"}, \"roles\": {\"type\": \"string\"}}}}]\n",
      "<class 'dict'>\n",
      "RANDOM ITEM: in - SAMPLE: {}}\n",
      "[{\"name\": \"user_id\", \"in\": \"{}}\", \"description\": \"User GUID\", \"required\": true, \"type\": \"string\"}, {\"in\": \"body\", \"name\": \"body\", \"description\": \"List of preference object\", \"required\": true, \"schema\": {\"type\": \"array\", \"items\": {\"type\": \"object\", \"properties\": {\"user_id\": {\"description\": \"The ID of the user that owns this preference\", \"type\": \"string\"}, \"category\": {\"type\": \"string\"}, \"name\": {\"type\": \"string\"}, \"value\": {\"type\": \"string\"}}}}}]\n",
      "<class 'dict'>\n",
      "RANDOM ITEM: schema - SAMPLE: [9.e+]\n",
      "[{\"in\": \"body\", \"name\": \"body\", \"description\": \"Mattermost configuration\", \"required\": true, \"schema\": \"[9.e+]\"}]\n",
      "<class 'dict'>\n",
      "RANDOM ITEM: name - SAMPLE: ['\n",
      "[{\"in\": \"path\", \"name\": \"['\", \"description\": \"ID of the command to update\", \"required\": true, \"type\": \"string\"}, {\"in\": \"body\", \"name\": \"body\", \"required\": true, \"schema\": {\"type\": \"object\", \"properties\": {\"id\": {\"description\": \"The ID of the slash command\", \"type\": \"string\"}, \"token\": {\"description\": \"The token which is used to verify the source of the payload\", \"type\": \"string\"}, \"create_at\": {\"description\": \"Timestamp when the command was created\", \"type\": \"integer\"}, \"updated_at\": {\"description\": \"Timestamp when the command was last updated\", \"type\": \"integer\"}, \"deleted_at\": {\"description\": \"Timestamp when the command was deleted, 0 if never deleted\", \"type\": \"integer\"}, \"creator_id\": {\"description\": \"The user id for the commands creator\", \"type\": \"string\"}, \"team_id\": {\"description\": \"The team id for which this command is configured\", \"type\": \"string\"}, \"trigger\": {\"description\": \"The string that triggers this command\", \"type\": \"string\"}, \"method\": {\"description\": \"Is the trigger done with HTTP Get ('G') or HTTP Post ('P')\", \"type\": \"string\"}, \"username\": {\"description\": \"What is the username for the response post\", \"type\": \"string\"}, \"icon_url\": {\"description\": \"The url to find the icon for this users avatar\", \"type\": \"string\"}, \"auto_complete\": {\"description\": \"Use auto complete for this command\", \"type\": \"boolean\"}, \"auto_complete_desc\": {\"description\": \"The description for this command shown when selecting the command\", \"type\": \"string\"}, \"auto_complete_hint\": {\"description\": \"The hint for this command\", \"type\": \"string\"}, \"display_name\": {\"description\": \"Display name for the command\", \"type\": \"string\"}, \"description\": {\"description\": \"Description for this command\", \"type\": \"string\"}, \"url\": {\"description\": \"The URL that is triggered\", \"type\": \"string\"}}}}]\n"
     ]
    },
    {
     "name": "stdout",
     "output_type": "stream",
     "text": [
      "<class 'dict'>\n",
      "RANDOM ITEM: in - SAMPLE: [][]\n",
      "[{\"name\": \"channel_id\", \"in\": \"[][]\", \"description\": \"Channel GUID\", \"required\": true, \"type\": \"string\"}, {\"name\": \"user_id\", \"in\": \"path\", \"description\": \"User GUID\", \"required\": true, \"type\": \"string\"}, {\"in\": \"body\", \"name\": \"notify_props\", \"required\": true, \"schema\": {\"type\": \"object\", \"properties\": {\"email\": {\"type\": \"string\", \"description\": \"Set to \\\"true\\\" to enable email notifications, \\\"false\\\" to disable, or \\\"default\\\" to use the global user notification setting.\"}, \"push\": {\"type\": \"string\", \"description\": \"Set to \\\"all\\\" to receive push notifications for all activity, \\\"mention\\\" for mentions and direct messages only, \\\"none\\\" to disable, or \\\"default\\\" to use the global user notification setting.\"}, \"desktop\": {\"type\": \"string\", \"description\": \"Set to \\\"all\\\" to receive desktop notifications for all activity, \\\"mention\\\" for mentions and direct messages only, \\\"none\\\" to disable, or \\\"default\\\" to use the global user notification setting.\"}, \"mark_unread\": {\"type\": \"string\", \"description\": \"Set to \\\"all\\\" to mark the channel unread for any new message, \\\"mention\\\" to mark unread for new mentions only. Defaults to \\\"all\\\".\"}}}}]\n",
      "<class 'dict'>\n",
      "RANDOM ITEM: required - SAMPLE: {đź‡¨đź‡­}\n",
      "[{\"name\": \"user_id\", \"in\": \"path\", \"description\": \"User GUID\", \"required\": \"{\\u0111\\u017a\\u2021\\u00a8\\u0111\\u017a\\u2021\\u00ad}\", \"type\": \"string\"}, {\"in\": \"body\", \"name\": \"body\", \"required\": true, \"schema\": {\"type\": \"object\", \"properties\": {\"auth_data\": {\"description\": \"Service-specific authentication data\", \"type\": \"string\"}, \"auth_service\": {\"description\": \"The authentication service such as \\\"email\\\", \\\"gitlab\\\", or \\\"ldap\\\"\", \"type\": \"string\"}, \"password\": {\"description\": \"The password used for email authentication\", \"type\": \"string\"}}}}]\n",
      "<class 'dict'>\n",
      "RANDOM ITEM: schema - SAMPLE: [,1]\n",
      "[{\"in\": \"body\", \"name\": \"body\", \"description\": \"Mattermost configuration\", \"required\": true, \"schema\": \"[,1]\"}]\n",
      "<class 'dict'>\n",
      "RANDOM ITEM: schema - SAMPLE: [\"\\x00\"]\n",
      "[{\"in\": \"body\", \"name\": \"body\", \"description\": \"Mattermost configuration\", \"required\": true, \"schema\": \"[\\\"\\\\x00\\\"]\"}]\n"
     ]
    }
   ],
   "source": [
    "test_cases()"
   ]
  },
  {
   "cell_type": "code",
   "execution_count": null,
   "metadata": {},
   "outputs": [],
   "source": []
  }
 ],
 "metadata": {
  "kernelspec": {
   "display_name": "Python 3",
   "language": "python",
   "name": "python3"
  },
  "language_info": {
   "codemirror_mode": {
    "name": "ipython",
    "version": 3
   },
   "file_extension": ".py",
   "mimetype": "text/x-python",
   "name": "python",
   "nbconvert_exporter": "python",
   "pygments_lexer": "ipython3",
   "version": "3.6.5"
  }
 },
 "nbformat": 4,
 "nbformat_minor": 2
}
