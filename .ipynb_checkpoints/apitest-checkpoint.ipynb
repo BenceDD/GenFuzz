{
 "cells": [
  {
   "cell_type": "code",
   "execution_count": 23,
   "metadata": {},
   "outputs": [],
   "source": [
    "from mrequests import MattermostRequests"
   ]
  },
  {
   "cell_type": "code",
   "execution_count": 27,
   "metadata": {},
   "outputs": [],
   "source": [
    "# Mattermost credentials should to be placed outside of this repo.\n",
    "mr = MattermostRequests('../mattermost_credentials.json', 'mattermost-openapi-v4.yaml')"
   ]
  },
  {
   "cell_type": "markdown",
   "metadata": {},
   "source": [
    "#### API testing"
   ]
  },
  {
   "cell_type": "markdown",
   "metadata": {
    "collapsed": true
   },
   "source": [
    "A motor feladata, hogy végrehajt egy teszt sort, és értékeli az eredményt. Addig folyik a tesztelés, amíg egy hibás válasz nem érkezik. (Hiba az is, ha nem érkezik válasz egy megadott időn belül, de itt figyelembe kell venni a hálózati késleltetést is.) A fuzzingot ezen a ponton úgy kéne megvalósítani, hogy az előbbi fuzzoló metódust használva a teszt alatt lévő API metódus össze lehetséges paraméterét végigtesztelni az összes lehetséges kombinációban. (Ez elvben nagyon sok, úgyhogy inkább az összes lehetséges teszt egy random részhalmazával érdemes próbálkozni.) A visszajövő válaszokat pedig minden esetben a séma alapján validálni kell (lásd 2. feladat)."
   ]
  },
  {
   "cell_type": "code",
   "execution_count": 28,
   "metadata": {},
   "outputs": [],
   "source": [
    "import datetime"
   ]
  },
  {
   "cell_type": "code",
   "execution_count": 31,
   "metadata": {},
   "outputs": [
    {
     "ename": "IndexError",
     "evalue": "list index out of range",
     "output_type": "error",
     "traceback": [
      "\u001b[1;31m---------------------------------------------------------------------------\u001b[0m",
      "\u001b[1;31mIndexError\u001b[0m                                Traceback (most recent call last)",
      "\u001b[1;32m<ipython-input-31-8777dd3442a7>\u001b[0m in \u001b[0;36m<module>\u001b[1;34m()\u001b[0m\n\u001b[1;32m----> 1\u001b[1;33m \u001b[0mteam_id\u001b[0m \u001b[1;33m=\u001b[0m \u001b[0mmr\u001b[0m\u001b[1;33m.\u001b[0m\u001b[0mget_teams\u001b[0m\u001b[1;33m(\u001b[0m\u001b[1;33m)\u001b[0m\u001b[1;33m[\u001b[0m\u001b[1;36m0\u001b[0m\u001b[1;33m]\u001b[0m\u001b[1;33m[\u001b[0m\u001b[1;34m'id'\u001b[0m\u001b[1;33m]\u001b[0m\u001b[1;33m\u001b[0m\u001b[0m\n\u001b[0m\u001b[0;32m      2\u001b[0m \u001b[0mchannel_id\u001b[0m \u001b[1;33m=\u001b[0m \u001b[0mmr\u001b[0m\u001b[1;33m.\u001b[0m\u001b[0mget_public_channels\u001b[0m\u001b[1;33m(\u001b[0m\u001b[0mteam_id\u001b[0m\u001b[1;33m=\u001b[0m\u001b[0mteam_id\u001b[0m\u001b[1;33m)\u001b[0m\u001b[1;33m[\u001b[0m\u001b[1;36m0\u001b[0m\u001b[1;33m]\u001b[0m\u001b[1;33m[\u001b[0m\u001b[1;34m'id'\u001b[0m\u001b[1;33m]\u001b[0m\u001b[1;33m\u001b[0m\u001b[0m\n",
      "\u001b[1;31mIndexError\u001b[0m: list index out of range"
     ]
    }
   ],
   "source": [
    "team_id = mr.get_teams()[0]['id']\n",
    "channel_id = mr.get_public_channels(team_id=team_id)[0]['id']"
   ]
  },
  {
   "cell_type": "code",
   "execution_count": 29,
   "metadata": {},
   "outputs": [
    {
     "name": "stdout",
     "output_type": "stream",
     "text": [
      "Test 1/3\n",
      "Input: {'szam': 2}\n",
      "Output: jegesmedve\n",
      "Test 2/3\n",
      "Input: {'noveny': 'fenyo', 'allat': 'jegesmedve'}\n",
      "Output: {'noveny': 'ez egy fenyo', 'allat': 'ez egy jegesmedve', 'szin': 'zold'}\n",
      "Test 3/3\n",
      "Input: {'szin': 'zold'}\n",
      "Output: ZOLD\n"
     ]
    }
   ],
   "source": [
    "def run_test(flow):\n",
    "    result_data = None\n",
    "    for i, action in enumerate(flow):\n",
    "        print('Test ' + str(i + 1) + '/' + str(len(flow)))\n",
    "        \n",
    "        # prepare variables\n",
    "        input_data = action['input_data'] or {}\n",
    "        input_data.update(result_data or {})\n",
    "        target = action['target']\n",
    "        post_process = action['post_process']\n",
    "        \n",
    "        # fuzzing input\n",
    "        # ....\n",
    "        print('Input: ' + str(input_data))\n",
    "        \n",
    "        # run target\n",
    "        result = target(**input_data)\n",
    "        print('Output: ' + str(result))\n",
    "        \n",
    "        # validate result\n",
    "        # ....\n",
    "        \n",
    "        # prepare result for next \n",
    "        result_data = post_process(result) if post_process is not None else result\n",
    "        \n",
    "        # save\n",
    "        f = open(\"test-\"+datetime.datetime.now().strftime(\"%y-%m-%d-%H-%M\")+\".txt\", \"w\")\n",
    "        f.write(\"[Test: \" + str(i + 1) + \" / \" + str(len(flow)))\n",
    "        f.write(\"Input: \" + str(input_data))\n",
    "        f.write(\"Output: \" + str(result))\n",
    "        f.write(\"TeamID: \" + str(team_id))\n",
    "        f.write(\"ChannelID: \" + str(channel_id)+\"]\")\n",
    "        f.close()\n",
    "             \n",
    "run_test(test_flow)"
   ]
  },
  {
   "cell_type": "code",
   "execution_count": 30,
   "metadata": {},
   "outputs": [],
   "source": [
    "def test_method_a(szam):\n",
    "    if szam == 2:\n",
    "        return 'jegesmedve'\n",
    "\n",
    "def test_method_b(noveny, allat):\n",
    "    if noveny == 'fenyo':\n",
    "        return {\n",
    "            'noveny': 'ez egy ' + noveny,\n",
    "            'allat': 'ez egy ' + allat,\n",
    "            'szin': 'zold',\n",
    "        }\n",
    "\n",
    "def test_method_c(szin):\n",
    "    return szin.upper()    \n",
    "\n",
    "test_flow = [\n",
    "    { 'input_data': { 'szam': 2 }, 'target': test_method_a, 'post_process': lambda x: { 'allat': x } },\n",
    "    { 'input_data': { 'noveny': 'fenyo' }, 'target': test_method_b, 'post_process': lambda x: { 'szin': x['szin'] } },\n",
    "    { 'input_data': None, 'target': test_method_c, 'post_process': None}\n",
    "]"
   ]
  },
  {
   "cell_type": "markdown",
   "metadata": {
    "collapsed": true
   },
   "source": [
    "#### Mattermost fuzzing"
   ]
  },
  {
   "cell_type": "code",
   "execution_count": null,
   "metadata": {},
   "outputs": [],
   "source": [
    "mr.create_a_post(channel_id=channel_id, message='this is a new message')"
   ]
  },
  {
   "cell_type": "code",
   "execution_count": null,
   "metadata": {
    "scrolled": false
   },
   "outputs": [],
   "source": [
    "mr.get_methods()"
   ]
  },
  {
   "cell_type": "code",
   "execution_count": null,
   "metadata": {},
   "outputs": [],
   "source": [
    "mr.get_teams()"
   ]
  },
  {
   "cell_type": "code",
   "execution_count": null,
   "metadata": {},
   "outputs": [],
   "source": [
    "\n",
    "    "
   ]
  }
 ],
 "metadata": {
  "kernelspec": {
   "display_name": "Python 3",
   "language": "python",
   "name": "python3"
  },
  "language_info": {
   "codemirror_mode": {
    "name": "ipython",
    "version": 3
   },
   "file_extension": ".py",
   "mimetype": "text/x-python",
   "name": "python",
   "nbconvert_exporter": "python",
   "pygments_lexer": "ipython3",
   "version": "3.6.5"
  }
 },
 "nbformat": 4,
 "nbformat_minor": 2
}
