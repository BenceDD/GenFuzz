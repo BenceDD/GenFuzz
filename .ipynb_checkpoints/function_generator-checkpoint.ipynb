{
 "cells": [
  {
   "cell_type": "code",
   "execution_count": 2,
   "metadata": {},
   "outputs": [
    {
     "name": "stdout",
     "output_type": "stream",
     "text": [
      "[{'in': 'body', 'name': 'body', 'description': 'User object to be created', 'required': True, 'schema': {'type': 'object', 'required': ['email', 'username', 'password'], 'properties': {'email': {'type': 'string'}, 'username': {'type': 'string'}, 'first_name': {'type': 'string'}, 'last_name': {'type': 'string'}, 'nickname': {'type': 'string'}, 'password': {'type': 'string'}, 'locale': {'type': 'string'}, 'props': {'type': 'object'}, 'notify_props': {'$ref': '#/definitions/UserNotifyProps'}}}}]\n",
      "[{'in': 'body', 'name': 'body', 'description': 'List of user ids', 'required': True, 'schema': {'type': 'array', 'items': {'type': 'string'}}}]\n",
      "[{'in': 'body', 'name': 'body', 'description': 'List of usernames', 'required': True, 'schema': {'type': 'array', 'items': {'type': 'string'}}}]\n",
      "[{'in': 'body', 'name': 'body', 'description': 'Search criteria', 'required': True, 'schema': {'type': 'object', 'required': ['term'], 'properties': {'term': {'description': 'The term to match against username, full name, nickname and email', 'type': 'string'}, 'team_id': {'description': 'If provided, only search users on this team', 'type': 'string'}, 'not_in_team_id': {'description': 'If provided, only search users not on this team', 'type': 'string'}, 'in_channel_id': {'description': 'If provided, only search users in this channel', 'type': 'string'}, 'not_in_channel_id': {'description': 'If provided, only search users not in this channel. Must specifiy `team_id` when using this option', 'type': 'string'}, 'allow_inactive': {'description': 'When `true`, include deactivated users in the results', 'type': 'boolean'}, 'without_team': {'type': 'boolean', 'description': 'Set this to `true` if you would like to search for users that are not on a team. This option takes precendence over `team_id`, `in_channel_id`, and `not_in_channel_id`.'}}}}]\n",
      "[{'name': 'image', 'in': 'formData', 'description': 'The image to be uploaded', 'required': True, 'type': 'file'}, {'name': 'user_id', 'in': 'path', 'description': 'User GUID', 'required': True, 'type': 'string'}]\n",
      "[{'in': 'body', 'name': 'body', 'required': True, 'schema': {'type': 'object', 'required': ['code', 'new_password'], 'properties': {'code': {'description': 'The recovery code', 'type': 'string'}, 'new_password': {'description': 'The new password for the user', 'type': 'string'}}}}]\n",
      "[{'name': 'user_id', 'in': 'path', 'description': 'User GUID', 'required': True, 'type': 'string'}]\n",
      "[{'in': 'body', 'name': 'body', 'required': True, 'schema': {'type': 'object', 'required': ['login_id'], 'properties': {'login_id': {'description': 'The email or username used to login', 'type': 'string'}}}}]\n",
      "[{'in': 'body', 'name': 'body', 'required': True, 'schema': {'type': 'object', 'required': ['email'], 'properties': {'email': {'description': 'The email of the user', 'type': 'string'}}}}]\n",
      "[{'name': 'user_id', 'in': 'path', 'description': 'User GUID', 'required': True, 'type': 'string'}, {'in': 'body', 'name': 'body', 'required': True, 'schema': {'type': 'object', 'required': ['session_id'], 'properties': {'session_id': {'description': 'The session GUID to revoke.', 'type': 'string'}}}}]\n",
      "[{'name': 'user_id', 'in': 'path', 'description': 'User GUID', 'required': True, 'type': 'string'}]\n",
      "[{'in': 'body', 'name': 'body', 'required': True, 'schema': {'type': 'object', 'required': ['token'], 'properties': {'token': {'description': 'The token given to validate the email', 'type': 'string'}}}}]\n",
      "[{'in': 'body', 'name': 'body', 'required': True, 'schema': {'type': 'object', 'required': ['email'], 'properties': {'email': {'description': 'Email of a user', 'type': 'string'}}}}]\n",
      "[{'in': 'body', 'name': 'body', 'required': True, 'schema': {'type': 'object', 'required': ['current_service', 'new_service'], 'properties': {'current_service': {'description': 'The service the user currently uses to login', 'type': 'string'}, 'new_service': {'description': 'The service the user will use to login', 'type': 'string'}, 'email': {'description': 'The email of the user', 'type': 'string'}, 'password': {'description': 'The password used with the current service', 'type': 'string'}, 'mfa_code': {'description': 'The MFA code of the current service', 'type': 'string'}, 'ldap_id': {'description': 'The LDAP/AD id of the user', 'type': 'string'}}}}]\n",
      "[{'name': 'user_id', 'in': 'path', 'description': 'User GUID', 'required': True, 'type': 'string'}, {'in': 'body', 'name': 'token', 'required': True, 'schema': {'type': 'object', 'required': ['description'], 'properties': {'description': {'description': 'A description of the token usage', 'type': 'string'}}}}]\n",
      "[{'in': 'body', 'name': 'token', 'required': True, 'schema': {'type': 'object', 'required': ['token'], 'properties': {'token': {'description': 'The token to revoke', 'type': 'string'}}}}]\n",
      "[{'in': 'body', 'name': 'token', 'required': True, 'schema': {'type': 'object', 'required': ['token'], 'properties': {'token': {'description': 'The token to disable', 'type': 'string'}}}}]\n",
      "[{'in': 'body', 'name': 'token', 'required': True, 'schema': {'type': 'object', 'required': ['token'], 'properties': {'token': {'description': 'The token to enable', 'type': 'string'}}}}]\n",
      "[{'in': 'body', 'name': 'body', 'description': 'Search criteria', 'required': True, 'schema': {'type': 'object', 'required': ['term'], 'properties': {'term': {'description': 'The search term to match against the token id, user id or username.', 'type': 'string'}}}}]\n",
      "[{'name': 'post', 'in': 'body', 'description': 'List of user ids to fetch', 'required': True, 'schema': {'type': 'array', 'items': {'type': 'string'}}}]\n",
      "[{'in': 'body', 'name': 'body', 'description': 'Team that is to be created', 'required': True, 'schema': {'type': 'object', 'required': ['name', 'display_name', 'type'], 'properties': {'name': {'type': 'string', 'description': 'Unique handler for a team, will be present in the team URL'}, 'display_name': {'type': 'string', 'description': 'Non-unique UI name for the team'}, 'type': {'type': 'string', 'description': \"`'O'` for open, `'I'` for invite only\"}}}}]\n",
      "[{'in': 'body', 'name': 'body', 'description': 'Search criteria', 'required': True, 'schema': {'type': 'object', 'required': ['term'], 'properties': {'term': {'description': 'The search term to match against the name or display name of teams', 'type': 'string'}}}}]\n",
      "[{'name': 'team_id', 'in': 'path', 'description': 'Team GUID', 'required': True, 'type': 'string'}, {'in': 'body', 'name': 'body', 'required': True, 'schema': {'$ref': '#/definitions/TeamMember'}}]\n",
      "[{'name': 'hash', 'in': 'query', 'description': 'Hash value with time, team id and and InviteSaltId', 'required': False, 'type': 'string'}, {'name': 'data', 'in': 'query', 'description': 'Data with time and team id', 'required': False, 'type': 'string'}, {'name': 'invite_id', 'in': 'query', 'description': 'Invite id to add user to the team', 'required': False, 'type': 'string'}]\n",
      "[{'name': 'team_id', 'in': 'path', 'description': 'Team GUID', 'required': True, 'type': 'string'}, {'in': 'body', 'name': 'body', 'required': True, 'schema': {'type': 'array', 'items': {'$ref': '#/definitions/TeamMember'}}}]\n",
      "[{'name': 'team_id', 'in': 'path', 'description': 'Team GUID', 'required': True, 'type': 'string'}, {'in': 'body', 'name': 'body', 'description': 'List of user ids', 'required': True, 'schema': {'type': 'array', 'items': {'type': 'string'}}}]\n",
      "[{'name': 'team_id', 'in': 'path', 'description': 'Team GUID', 'required': True, 'type': 'string'}, {'name': 'image', 'in': 'formData', 'description': 'The image to be uploaded', 'required': True, 'type': 'file'}]\n",
      "[{'name': 'team_id', 'in': 'path', 'description': 'Team GUID', 'required': True, 'type': 'string'}, {'in': 'body', 'name': 'body', 'description': \"List of user's email\", 'required': True, 'schema': {'type': 'array', 'items': {'type': 'string'}}}]\n",
      "[{'name': 'file', 'in': 'formData', 'description': 'A file to be uploaded in zip format.', 'required': True, 'type': 'file'}, {'name': 'filesize', 'in': 'formData', 'description': 'The size of the zip file to be imported.', 'required': True, 'type': 'integer'}, {'name': 'importFrom', 'in': 'formData', 'description': 'String that defines from which application the team was exported to be imported into Mattermost.', 'required': True, 'allowEmptyValue': False, 'type': 'string'}, {'name': 'team_id', 'in': 'path', 'description': 'Team GUID', 'required': True, 'type': 'string'}]\n",
      "[{'in': 'body', 'name': 'body', 'description': 'Channel object to be created', 'required': True, 'schema': {'type': 'object', 'required': ['name', 'display_name', 'type', 'team_id'], 'properties': {'team_id': {'type': 'string', 'description': 'The team ID of the team to create the channel on'}, 'name': {'type': 'string', 'description': 'The unique handle for the channel, will be present in the channel URL'}, 'display_name': {'type': 'string', 'description': 'The non-unique UI name for the channel'}, 'purpose': {'type': 'string', 'description': 'A short description of the purpose of the channel'}, 'header': {'type': 'string', 'description': 'Markdown-formatted text to display in the header of the channel'}, 'type': {'type': 'string', 'description': \"'O' for a public channel, 'P' for a private channel\"}}}}]\n",
      "[{'in': 'body', 'name': 'body', 'description': 'The two user ids to be in the direct message', 'required': True, 'schema': {'type': 'array', 'items': {'type': 'string'}}}]\n",
      "[{'in': 'body', 'name': 'body', 'description': 'User ids to be in the group message channel', 'required': True, 'schema': {'type': 'array', 'items': {'type': 'string'}}}]\n",
      "[{'name': 'team_id', 'in': 'path', 'description': 'Team GUID', 'required': True, 'type': 'string'}, {'in': 'body', 'name': 'body', 'description': 'List of channel ids', 'required': True, 'schema': {'type': 'array', 'items': {'type': 'string'}}}]\n",
      "[{'name': 'channel_id', 'in': 'path', 'description': 'Channel GUID', 'required': True, 'type': 'string'}]\n",
      "[{'name': 'team_id', 'in': 'path', 'description': 'Team GUID', 'required': True, 'type': 'string'}, {'in': 'body', 'name': 'body', 'description': 'Search criteria', 'required': True, 'schema': {'type': 'object', 'required': ['term'], 'properties': {'term': {'description': 'The search term to match against the name or display name of channels', 'type': 'string'}}}}]\n",
      "[{'name': 'channel_id', 'in': 'path', 'description': 'The channel ID', 'required': True, 'type': 'string'}, {'in': 'body', 'name': 'body', 'required': True, 'schema': {'type': 'object', 'required': ['user_id'], 'properties': {'user_id': {'type': 'string', 'description': 'The ID of user to add into the channel'}, 'post_root_id': {'type': 'string', 'description': 'The ID of root post where link to add channel member originates'}}}}]\n",
      "[{'name': 'channel_id', 'in': 'path', 'description': 'Channel GUID', 'required': True, 'type': 'string'}, {'in': 'body', 'name': 'user_ids', 'description': 'List of user ids', 'required': True, 'schema': {'type': 'array', 'items': {'type': 'string'}}}]\n",
      "[{'in': 'path', 'name': 'user_id', 'description': 'User ID to perform the view action for', 'required': True, 'type': 'string'}, {'in': 'body', 'name': 'body', 'description': 'Paremeters affecting how and which channels to view', 'required': True, 'schema': {'type': 'object', 'required': ['channel_id'], 'properties': {'channel_id': {'type': 'string', 'description': 'The channel ID that is being viewed. Use a blank string to indicate that all channels have lost focus.'}, 'prev_channel_id': {'type': 'string', 'description': 'The channel ID of the previous channel, used when switching channels. Providing this ID will cause push notifications to clear on the channel being switched to.'}}}}]\n",
      "[{'in': 'body', 'name': 'post', 'description': 'Post object to create', 'required': True, 'schema': {'type': 'object', 'required': ['channel_id', 'message'], 'properties': {'channel_id': {'type': 'string', 'description': 'The channel ID to post in'}, 'message': {'type': 'string', 'description': 'The message contents, can be formatted with Markdown'}, 'root_id': {'type': 'string', 'description': 'The post ID to comment on'}, 'file_ids': {'type': 'array', 'description': 'A list of file IDs to associate with the post', 'items': {'type': 'string'}}, 'props': {'description': 'A general JSON property bag to attach to the post', 'type': 'string'}}}}]\n",
      "[{'name': 'team_id', 'in': 'path', 'description': 'Team GUID', 'required': True, 'type': 'string'}, {'name': 'body', 'in': 'body', 'description': 'The search terms and logic to use in the search.', 'required': True, 'schema': {'type': 'object', 'required': ['terms', 'is_or_search'], 'properties': {'terms': {'type': 'string', 'description': \"The search terms as inputed by the user. To search for posts from a user include `from:someusername`, using a user's username. To search in a specific channel include `in:somechannel`, using the channel name (not the display name).\"}, 'is_or_search': {'type': 'boolean', 'description': 'Set to true if an Or search should be performed vs an And search.'}}}}]\n",
      "[{'name': 'post_id', 'in': 'path', 'description': 'Post GUID', 'required': True, 'type': 'string'}]\n",
      "[{'name': 'post_id', 'in': 'path', 'description': 'Post GUID', 'required': True, 'type': 'string'}]\n",
      "[{'name': 'post_id', 'in': 'path', 'description': 'Post GUID', 'required': True, 'type': 'string'}, {'name': 'action_id', 'in': 'path', 'description': 'Action GUID', 'required': True, 'type': 'string'}]\n",
      "[{'name': 'user_id', 'in': 'path', 'description': 'User GUID', 'required': True, 'type': 'string'}, {'in': 'body', 'name': 'body', 'description': 'List of preference object', 'required': True, 'schema': {'type': 'array', 'items': {'$ref': '#/definitions/Preference'}}}]\n",
      "[{'name': 'files', 'in': 'formData', 'description': 'A file to be uploaded', 'required': False, 'type': 'file'}, {'name': 'channel_id', 'in': 'formData', 'description': 'The ID of the channel that this file will be uploaded to', 'required': False, 'type': 'string'}, {'name': 'client_ids', 'in': 'formData', 'description': 'A unique identifier for the file that will be returned in the response', 'required': False, 'allowEmptyValue': True, 'type': 'string'}, {'name': 'channel_id', 'in': 'query', 'description': 'The ID of the channel that this file will be uploaded to', 'required': False, 'type': 'string'}, {'name': 'filename', 'in': 'query', 'description': 'The ID of the channel that this file will be uploaded to', 'required': False, 'type': 'string'}]\n",
      "[{'in': 'body', 'name': 'body', 'description': 'Job object to be created', 'required': True, 'schema': {'type': 'object', 'required': ['type'], 'properties': {'type': {'type': 'string', 'description': 'The type of job to create'}, 'data': {'type': 'object', 'description': 'An object containing any additional data required for this job type'}}}}]\n",
      "[{'name': 'job_id', 'in': 'path', 'description': 'Job GUID', 'required': True, 'type': 'string'}]\n"
     ]
    },
    {
     "ename": "KeyError",
     "evalue": "'parameters'",
     "output_type": "error",
     "traceback": [
      "\u001b[1;31m---------------------------------------------------------------------------\u001b[0m",
      "\u001b[1;31mKeyError\u001b[0m                                  Traceback (most recent call last)",
      "\u001b[1;32m<ipython-input-2-1ac8b115d657>\u001b[0m in \u001b[0;36m<module>\u001b[1;34m()\u001b[0m\n\u001b[0;32m     21\u001b[0m             })\n\u001b[0;32m     22\u001b[0m             print(\n\u001b[1;32m---> 23\u001b[1;33m                 api_data[path][\"post\"][\"parameters\"])\n\u001b[0m\u001b[0;32m     24\u001b[0m             \u001b[1;31m#n+=1\u001b[0m\u001b[1;33m\u001b[0m\u001b[1;33m\u001b[0m\u001b[0m\n\u001b[0;32m     25\u001b[0m         \u001b[1;32mif\u001b[0m \u001b[1;34m\"put\"\u001b[0m \u001b[1;32min\u001b[0m \u001b[0mapi_data\u001b[0m\u001b[1;33m[\u001b[0m\u001b[0mpath\u001b[0m\u001b[1;33m]\u001b[0m\u001b[1;33m:\u001b[0m\u001b[1;33m\u001b[0m\u001b[0m\n",
      "\u001b[1;31mKeyError\u001b[0m: 'parameters'"
     ]
    }
   ],
   "source": [
    "import yaml\n",
    "import json\n",
    "\n",
    "#with open('../mattermost_credentials.json') as file:\n",
    "#    login_data = json.load(file)\n",
    "#    print(login_data['api_url'])\n",
    "#    print(login_data['login_id'])\n",
    "#    print(login_data['password'])\n",
    "with open('mattermost-openapi-v4.yaml') as file:\n",
    "    api_data = yaml.load(file)['paths']\n",
    "    api_functions = []\n",
    "    #n=0\n",
    "    for path in api_data:\n",
    "        if \"post\" in api_data[path]:\n",
    "#            print(n)\n",
    "#            print(\"POST in: \"+path+\"  \")\n",
    "            api_functions.append({\n",
    "                \"description\": api_data[path][\"post\"][\"description\"].split(\"#####\")[0].replace('\\n', ' '),\n",
    "                \"path\": path,\n",
    "                \"method\": \"post\"\n",
    "            })\n",
    "            print(\n",
    "                api_data[path][\"post\"][\"parameters\"])\n",
    "            #n+=1\n",
    "        if \"put\" in api_data[path]:\n",
    "#            print(\"PUT  in: \"+path+\"  \")\n",
    "            api_functions.append({\n",
    "                \"description\": api_data[path][\"put\"][\"description\"].split(\"#####\")[0].replace('\\n', ' '),\n",
    "                \"path\": path,\n",
    "                \"method\": \"put\"})\n",
    "            #n+=1\n",
    "\n",
    "#    print(n)\n",
    "with open('./mattermost_api_post_put.txt', \"w\") as file:\n",
    "    for function in api_functions:\n",
    "        #function_name=\"FUNCTION_NAME\" #input()\n",
    "        function_schema = '    def FUNCTION_NAME(self, auth_header, **kwargs):\\n        \"\"\"{0}\"\"\"\\n        return self.send_request(\\'{1}\\', \\'{2}\\', **kwargs)\\n\\n'.format(function[\"description\"], function[\"path\"], function[\"method\"])\n",
    "        file.write(function_schema)\n"
   ]
  },
  {
   "cell_type": "code",
   "execution_count": null,
   "metadata": {
    "collapsed": true
   },
   "outputs": [],
   "source": []
  }
 ],
 "metadata": {
  "kernelspec": {
   "display_name": "Python 3",
   "language": "python",
   "name": "python3"
  },
  "language_info": {
   "codemirror_mode": {
    "name": "ipython",
    "version": 3
   },
   "file_extension": ".py",
   "mimetype": "text/x-python",
   "name": "python",
   "nbconvert_exporter": "python",
   "pygments_lexer": "ipython3",
   "version": "3.6.1"
  }
 },
 "nbformat": 4,
 "nbformat_minor": 2
}
